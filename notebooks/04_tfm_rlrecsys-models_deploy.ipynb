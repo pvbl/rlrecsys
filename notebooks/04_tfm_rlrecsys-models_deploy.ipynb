{
 "cells": [
  {
   "cell_type": "markdown",
   "metadata": {},
   "source": [
    "# Puesta en producción\n",
    "En este caso pondemos el modelo en producción para poder consumirlo. Usaremos un checkpoint generado anteriormente para ello."
   ]
  },
  {
   "cell_type": "code",
   "execution_count": 1,
   "metadata": {},
   "outputs": [],
   "source": [
    "%load_ext autoreload\n",
    "%autoreload 2"
   ]
  },
  {
   "cell_type": "code",
   "execution_count": 2,
   "metadata": {},
   "outputs": [
    {
     "name": "stderr",
     "output_type": "stream",
     "text": [
      "C:\\Users\\Paul\\AppData\\Roaming\\Python\\Python39\\site-packages\\flatbuffers\\compat.py:19: DeprecationWarning: the imp module is deprecated in favour of importlib; see the module's documentation for alternative uses\n",
      "  import imp\n",
      "C:\\Users\\Paul\\AppData\\Roaming\\Python\\Python39\\site-packages\\keras\\utils\\image_utils.py:36: DeprecationWarning: NEAREST is deprecated and will be removed in Pillow 10 (2023-07-01). Use Resampling.NEAREST or Dither.NONE instead.\n",
      "  'nearest': pil_image.NEAREST,\n",
      "C:\\Users\\Paul\\AppData\\Roaming\\Python\\Python39\\site-packages\\keras\\utils\\image_utils.py:37: DeprecationWarning: BILINEAR is deprecated and will be removed in Pillow 10 (2023-07-01). Use Resampling.BILINEAR instead.\n",
      "  'bilinear': pil_image.BILINEAR,\n",
      "C:\\Users\\Paul\\AppData\\Roaming\\Python\\Python39\\site-packages\\keras\\utils\\image_utils.py:38: DeprecationWarning: BICUBIC is deprecated and will be removed in Pillow 10 (2023-07-01). Use Resampling.BICUBIC instead.\n",
      "  'bicubic': pil_image.BICUBIC,\n",
      "C:\\Users\\Paul\\AppData\\Roaming\\Python\\Python39\\site-packages\\keras\\utils\\image_utils.py:39: DeprecationWarning: HAMMING is deprecated and will be removed in Pillow 10 (2023-07-01). Use Resampling.HAMMING instead.\n",
      "  'hamming': pil_image.HAMMING,\n",
      "C:\\Users\\Paul\\AppData\\Roaming\\Python\\Python39\\site-packages\\keras\\utils\\image_utils.py:40: DeprecationWarning: BOX is deprecated and will be removed in Pillow 10 (2023-07-01). Use Resampling.BOX instead.\n",
      "  'box': pil_image.BOX,\n",
      "C:\\Users\\Paul\\AppData\\Roaming\\Python\\Python39\\site-packages\\keras\\utils\\image_utils.py:41: DeprecationWarning: LANCZOS is deprecated and will be removed in Pillow 10 (2023-07-01). Use Resampling.LANCZOS instead.\n",
      "  'lanczos': pil_image.LANCZOS,\n",
      "c:\\Users\\Paul\\miniconda3\\envs\\tfmenv\\lib\\site-packages\\tensorflow_probability\\python\\__init__.py:57: DeprecationWarning: distutils Version classes are deprecated. Use packaging.version instead.\n",
      "  if (distutils.version.LooseVersion(tf.__version__) <\n",
      "2022-09-05 14:23:45,847\tWARNING deprecation.py:47 -- DeprecationWarning: `ray.rllib.agents.marwil` has been deprecated. Use `ray.rllib.algorithms.[marwil|bc]` instead. This will raise an error in the future!\n",
      "C:\\Users\\Paul\\AppData\\Roaming\\Python\\Python39\\site-packages\\gin\\tf\\__init__.py:48: DeprecationWarning: distutils Version classes are deprecated. Use packaging.version instead.\n",
      "  if (distutils.version.LooseVersion(tf.__version__) <\n"
     ]
    }
   ],
   "source": [
    "# Librerías estandar\n",
    "import pandas as pd\n",
    "import numpy as np\n",
    "import matplotlib.pyplot as plt\n",
    "import requests\n",
    "from starlette.requests import Request\n",
    "\n",
    "from pprint import pprint\n",
    "from progressbar import ProgressBar\n",
    "from collections import OrderedDict\n",
    "import tree  # dm_tree\n",
    "\n",
    "\n",
    "# librerias para RL\n",
    "import ray\n",
    "from ray import tune\n",
    "from ray import serve\n",
    "\n",
    "from ray.rllib.agents.marwil import BCTrainer, BCConfig # derivado del MARWIL\n",
    "from ray.rllib.agents.marwil import MARWILTrainer, MARWILConfig\n",
    "from ray.rllib.offline.estimators import (\n",
    "    ImportanceSampling,\n",
    "    WeightedImportanceSampling,\n",
    "    DirectMethod,\n",
    "    DoublyRobust,\n",
    ")\n",
    "## environment\n",
    "from ray.rllib.examples.env.recommender_system_envs_with_recsim import LongTermSatisfactionRecSimEnv, InterestEvolutionRecSimEnv\n",
    "\n"
   ]
  },
  {
   "cell_type": "code",
   "execution_count": 3,
   "metadata": {},
   "outputs": [],
   "source": [
    "# cargamos las funciones que hemos guardado dentro de la carpeta src\n",
    "# nos permite compartir funciones en diferentes notebooks\n",
    "import sys\n",
    "sys.path.append('../src')\n",
    "from models.rlmodels import run_random_walk_episode, run_rlmodel_episode, run_simulation, run_one_single_episode\n",
    "from visualization.visualize import plot_rewards_timestamp\n",
    "from data.env import LTSWithStrongerDissatisfactionEffect \n",
    "from utils.docs import get_json_files"
   ]
  },
  {
   "cell_type": "code",
   "execution_count": 4,
   "metadata": {},
   "outputs": [
    {
     "name": "stderr",
     "output_type": "stream",
     "text": [
      "<>:1: DeprecationWarning: invalid escape sequence \\c\n"
     ]
    }
   ],
   "source": [
    "checkpoint_file = '../models/offline_rl/interest_evolution/BCTrainer\\checkpoint_000117'\n",
    "OUTPUT_DIR = \"C:\\\\Users\\\\Paul\\\\ray_results\\\\DQN_2022-09-01_17-40-13\\\\DQN_env_ie_5e8d7_00000_0_2022-09-01_17-40-13\\\\data\"\n",
    "\n",
    "SEED = 0\n",
    "\n",
    "## configuración del entorno: 20 posibles candidatos del que seleccionaremos 2\n",
    "# mantendremos esta configuración para los demás agentes también\n",
    "NUM_CANDIDATES = 20\n",
    "SLATE_SIZE = 2\n",
    "REGISTER_ENV_NAME = \"env_ie\"\n"
   ]
  },
  {
   "cell_type": "code",
   "execution_count": 5,
   "metadata": {},
   "outputs": [],
   "source": [
    "# cargamos los datos  ofline del modelo para poder predecir con el modelo\n",
    "json_output_file = get_json_files(OUTPUT_DIR)[-1]"
   ]
  },
  {
   "cell_type": "code",
   "execution_count": 6,
   "metadata": {},
   "outputs": [],
   "source": [
    "\n",
    "\n",
    "offline_rl_env = LongTermSatisfactionRecSimEnv({\n",
    "    \"num_candidates\": NUM_CANDIDATES,\n",
    "    \"slate_size\": SLATE_SIZE,\n",
    "    \"wrap_for_bandits\": True,  \n",
    "    \"convert_to_discrete_action_space\": True,\n",
    "})\n",
    "\n",
    "#Configuramos el entrenador BC\n",
    "offline_rl_config = {\n",
    "    \"input\": [json_output_file],\n",
    "    \"actions_in_input_normalized\": True,\n",
    "    # Para modelos online, esto se configura a \"sampler\" por defecto.\n",
    "\n",
    "    # como no tenemos un entorno y el espacio de observaciones y acciones no está definido en el archivo JSON,\n",
    "    # lo especificamos manualmente\n",
    "    \"env\": None,  # defecto\n",
    "    \"observation_space\": offline_rl_env.observation_space,\n",
    "    \"action_space\": offline_rl_env.action_space,\n",
    "\n",
    "    # estimaciones OPE \n",
    "    \"input_evaluation\": [\"is\", \"wis\"],\n",
    "}\n",
    "\n",
    "config_bc = (\n",
    "    BCConfig()\n",
    "    .environment(env=None)\n",
    "    .framework(\"torch\")\n",
    "    .offline_data(input_=[json_output_file])\n",
    "    .evaluation(\n",
    "        evaluation_interval=1,\n",
    "        evaluation_duration=10,\n",
    "        evaluation_num_workers=1,\n",
    "        evaluation_duration_unit=\"episodes\",\n",
    "        evaluation_config={\"input\": [json_output_file]},\n",
    "        off_policy_estimation_methods={\n",
    "            \"is\": {\"type\": ImportanceSampling},\n",
    "            \"wis\": {\"type\": WeightedImportanceSampling},\n",
    "           \n",
    "            },\n",
    "        #},\n",
    "    )\n",
    ")\n",
    "# hemos puesto en env a None por lo que tenemos que darle esta info al modelo offline\n",
    "config_bc.observation_space = offline_rl_env.observation_space \n",
    "config_bc.action_space = offline_rl_env.action_space\n"
   ]
  },
  {
   "cell_type": "code",
   "execution_count": 7,
   "metadata": {},
   "outputs": [
    {
     "name": "stderr",
     "output_type": "stream",
     "text": [
      "2022-09-05 14:21:26,684\tWARNING deprecation.py:47 -- DeprecationWarning: `config['multiagent']['replay_mode']` has been deprecated. config['replay_buffer_config']['replay_mode'] This will raise an error in the future!\n",
      "C:\\Users\\Paul\\AppData\\Roaming\\Python\\Python39\\site-packages\\ray\\_private\\ray_option_utils.py:266: DeprecationWarning: Setting 'object_store_memory' for actors is deprecated since it doesn't actually reserve the required object store memory. Use object spilling that's enabled by default (https://docs.ray.io/en/releases-2.0.0/ray-core/objects/object-spilling.html) instead to bypass the object store memory size limitation.\n",
      "  warnings.warn(\n",
      "2022-09-05 14:21:29,909\tINFO worker.py:1509 -- Started a local Ray instance. View the dashboard at \u001b[1m\u001b[32m127.0.0.1:8265 \u001b[39m\u001b[22m\n",
      "2022-09-05 14:21:32,750\tWARNING deprecation.py:47 -- DeprecationWarning: `simple_optimizer` has been deprecated. This will raise an error in the future!\n",
      "2022-09-05 14:21:32,751\tWARNING deprecation.py:47 -- DeprecationWarning: `config['multiagent']['replay_mode']` has been deprecated. config['replay_buffer_config']['replay_mode'] This will raise an error in the future!\n",
      "\u001b[2m\u001b[36m(pid=26224)\u001b[0m C:\\Users\\Paul\\AppData\\Roaming\\Python\\Python39\\site-packages\\flatbuffers\\compat.py:19: DeprecationWarning: the imp module is deprecated in favour of importlib; see the module's documentation for alternative uses\n",
      "\u001b[2m\u001b[36m(pid=26224)\u001b[0m   import imp\n",
      "\u001b[2m\u001b[36m(pid=26224)\u001b[0m C:\\Users\\Paul\\AppData\\Roaming\\Python\\Python39\\site-packages\\keras\\utils\\image_utils.py:36: DeprecationWarning: NEAREST is deprecated and will be removed in Pillow 10 (2023-07-01). Use Resampling.NEAREST or Dither.NONE instead.\n",
      "\u001b[2m\u001b[36m(pid=26224)\u001b[0m   'nearest': pil_image.NEAREST,\n",
      "\u001b[2m\u001b[36m(pid=26224)\u001b[0m C:\\Users\\Paul\\AppData\\Roaming\\Python\\Python39\\site-packages\\keras\\utils\\image_utils.py:37: DeprecationWarning: BILINEAR is deprecated and will be removed in Pillow 10 (2023-07-01). Use Resampling.BILINEAR instead.\n",
      "\u001b[2m\u001b[36m(pid=26224)\u001b[0m   'bilinear': pil_image.BILINEAR,\n",
      "\u001b[2m\u001b[36m(pid=26224)\u001b[0m C:\\Users\\Paul\\AppData\\Roaming\\Python\\Python39\\site-packages\\keras\\utils\\image_utils.py:38: DeprecationWarning: BICUBIC is deprecated and will be removed in Pillow 10 (2023-07-01). Use Resampling.BICUBIC instead.\n",
      "\u001b[2m\u001b[36m(pid=26224)\u001b[0m   'bicubic': pil_image.BICUBIC,\n",
      "\u001b[2m\u001b[36m(pid=26224)\u001b[0m C:\\Users\\Paul\\AppData\\Roaming\\Python\\Python39\\site-packages\\keras\\utils\\image_utils.py:39: DeprecationWarning: HAMMING is deprecated and will be removed in Pillow 10 (2023-07-01). Use Resampling.HAMMING instead.\n",
      "\u001b[2m\u001b[36m(pid=26224)\u001b[0m   'hamming': pil_image.HAMMING,\n",
      "\u001b[2m\u001b[36m(pid=26224)\u001b[0m C:\\Users\\Paul\\AppData\\Roaming\\Python\\Python39\\site-packages\\keras\\utils\\image_utils.py:40: DeprecationWarning: BOX is deprecated and will be removed in Pillow 10 (2023-07-01). Use Resampling.BOX instead.\n",
      "\u001b[2m\u001b[36m(pid=26224)\u001b[0m   'box': pil_image.BOX,\n",
      "\u001b[2m\u001b[36m(pid=26224)\u001b[0m C:\\Users\\Paul\\AppData\\Roaming\\Python\\Python39\\site-packages\\keras\\utils\\image_utils.py:41: DeprecationWarning: LANCZOS is deprecated and will be removed in Pillow 10 (2023-07-01). Use Resampling.LANCZOS instead.\n",
      "\u001b[2m\u001b[36m(pid=26224)\u001b[0m   'lanczos': pil_image.LANCZOS,\n",
      "\u001b[2m\u001b[36m(pid=26224)\u001b[0m c:\\Users\\Paul\\miniconda3\\envs\\tfmenv\\lib\\site-packages\\tensorflow_probability\\python\\__init__.py:57: DeprecationWarning: distutils Version classes are deprecated. Use packaging.version instead.\n",
      "\u001b[2m\u001b[36m(pid=26224)\u001b[0m   if (distutils.version.LooseVersion(tf.__version__) <\n",
      "2022-09-05 14:21:38,399\tINFO trainable.py:160 -- Trainable.setup took 11.716 seconds. If your trainable is slow to initialize, consider setting reuse_actors=True to reduce actor creation overheads.\n",
      "2022-09-05 14:21:38,410\tINFO trainable.py:668 -- Restored on 127.0.0.1 from checkpoint: ..\\models\\offline_rl\\interest_evolution\\BCTrainer\\checkpoint_000117\n",
      "2022-09-05 14:21:38,411\tINFO trainable.py:677 -- Current state after restoring: {'_iteration': 117, '_timesteps_total': None, '_time_total': 1625.2888507843018, '_episodes_total': 0}\n"
     ]
    },
    {
     "name": "stdout",
     "output_type": "stream",
     "text": [
      "Before restoring: Trainer is at iteration=0\n",
      "After restoring: Trainer is at iteration=117\n"
     ]
    }
   ],
   "source": [
    "bc_trainer = config_bc.build()\n",
    "bc_trainer.restore(checkpoint_file)\n",
    "print(f\"Cargamos el Trainer en la iteración={bc_trainer.iteration}\")"
   ]
  },
  {
   "cell_type": "code",
   "execution_count": 8,
   "metadata": {},
   "outputs": [
    {
     "name": "stderr",
     "output_type": "stream",
     "text": [
      "\u001b[2m\u001b[36m(ServeController pid=27152)\u001b[0m INFO 2022-09-05 14:21:40,478 controller 27152 http_state.py:129 - Starting HTTP proxy with name 'SERVE_CONTROLLER_ACTOR:PyKHYc:SERVE_PROXY_ACTOR-74a99897c07e4fe3d3aa2682588827412cfd89a8b216140686d4782f' on node '74a99897c07e4fe3d3aa2682588827412cfd89a8b216140686d4782f' listening on '127.0.0.1:8000'\n",
      "\u001b[2m\u001b[36m(HTTPProxyActor pid=22640)\u001b[0m INFO:     Started server process [22640]\n",
      "\u001b[2m\u001b[36m(ServeController pid=27152)\u001b[0m INFO 2022-09-05 14:21:42,417 controller 27152 deployment_state.py:1232 - Adding 1 replicas to deployment 'ServeModel'.\n",
      "\u001b[2m\u001b[36m(ServeReplica:ServeModel pid=7532)\u001b[0m C:\\Users\\Paul\\AppData\\Roaming\\Python\\Python39\\site-packages\\flatbuffers\\compat.py:19: DeprecationWarning: the imp module is deprecated in favour of importlib; see the module's documentation for alternative uses\n",
      "\u001b[2m\u001b[36m(ServeReplica:ServeModel pid=7532)\u001b[0m   import imp\n",
      "\u001b[2m\u001b[36m(ServeReplica:ServeModel pid=7532)\u001b[0m C:\\Users\\Paul\\AppData\\Roaming\\Python\\Python39\\site-packages\\keras\\utils\\image_utils.py:36: DeprecationWarning: NEAREST is deprecated and will be removed in Pillow 10 (2023-07-01). Use Resampling.NEAREST or Dither.NONE instead.\n",
      "\u001b[2m\u001b[36m(ServeReplica:ServeModel pid=7532)\u001b[0m   'nearest': pil_image.NEAREST,\n",
      "\u001b[2m\u001b[36m(ServeReplica:ServeModel pid=7532)\u001b[0m C:\\Users\\Paul\\AppData\\Roaming\\Python\\Python39\\site-packages\\keras\\utils\\image_utils.py:37: DeprecationWarning: BILINEAR is deprecated and will be removed in Pillow 10 (2023-07-01). Use Resampling.BILINEAR instead.\n",
      "\u001b[2m\u001b[36m(ServeReplica:ServeModel pid=7532)\u001b[0m   'bilinear': pil_image.BILINEAR,\n",
      "\u001b[2m\u001b[36m(ServeReplica:ServeModel pid=7532)\u001b[0m C:\\Users\\Paul\\AppData\\Roaming\\Python\\Python39\\site-packages\\keras\\utils\\image_utils.py:38: DeprecationWarning: BICUBIC is deprecated and will be removed in Pillow 10 (2023-07-01). Use Resampling.BICUBIC instead.\n",
      "\u001b[2m\u001b[36m(ServeReplica:ServeModel pid=7532)\u001b[0m   'bicubic': pil_image.BICUBIC,\n",
      "\u001b[2m\u001b[36m(ServeReplica:ServeModel pid=7532)\u001b[0m C:\\Users\\Paul\\AppData\\Roaming\\Python\\Python39\\site-packages\\keras\\utils\\image_utils.py:39: DeprecationWarning: HAMMING is deprecated and will be removed in Pillow 10 (2023-07-01). Use Resampling.HAMMING instead.\n",
      "\u001b[2m\u001b[36m(ServeReplica:ServeModel pid=7532)\u001b[0m   'hamming': pil_image.HAMMING,\n",
      "\u001b[2m\u001b[36m(ServeReplica:ServeModel pid=7532)\u001b[0m C:\\Users\\Paul\\AppData\\Roaming\\Python\\Python39\\site-packages\\keras\\utils\\image_utils.py:40: DeprecationWarning: BOX is deprecated and will be removed in Pillow 10 (2023-07-01). Use Resampling.BOX instead.\n",
      "\u001b[2m\u001b[36m(ServeReplica:ServeModel pid=7532)\u001b[0m   'box': pil_image.BOX,\n",
      "\u001b[2m\u001b[36m(ServeReplica:ServeModel pid=7532)\u001b[0m C:\\Users\\Paul\\AppData\\Roaming\\Python\\Python39\\site-packages\\keras\\utils\\image_utils.py:41: DeprecationWarning: LANCZOS is deprecated and will be removed in Pillow 10 (2023-07-01). Use Resampling.LANCZOS instead.\n",
      "\u001b[2m\u001b[36m(ServeReplica:ServeModel pid=7532)\u001b[0m   'lanczos': pil_image.LANCZOS,\n",
      "\u001b[2m\u001b[36m(ServeReplica:ServeModel pid=7532)\u001b[0m c:\\Users\\Paul\\miniconda3\\envs\\tfmenv\\lib\\site-packages\\tensorflow_probability\\python\\__init__.py:57: DeprecationWarning: distutils Version classes are deprecated. Use packaging.version instead.\n",
      "\u001b[2m\u001b[36m(ServeReplica:ServeModel pid=7532)\u001b[0m   if (distutils.version.LooseVersion(tf.__version__) <\n",
      "\u001b[2m\u001b[36m(ServeReplica:ServeModel pid=7532)\u001b[0m 2022-09-05 14:21:48,418\tWARNING deprecation.py:47 -- DeprecationWarning: `config['multiagent']['replay_mode']` has been deprecated. config['replay_buffer_config']['replay_mode'] This will raise an error in the future!\n",
      "\u001b[2m\u001b[36m(ServeReplica:ServeModel pid=7532)\u001b[0m 2022-09-05 14:21:48,420\tINFO algorithm.py:351 -- Current log_level is WARN. For more information, set 'log_level': 'INFO' / 'DEBUG' or use the -v and -vv flags.\n",
      "\u001b[2m\u001b[36m(ServeReplica:ServeModel pid=7532)\u001b[0m C:\\Users\\Paul\\AppData\\Roaming\\Python\\Python39\\site-packages\\ray\\_private\\ray_option_utils.py:266: DeprecationWarning: Setting 'object_store_memory' for actors is deprecated since it doesn't actually reserve the required object store memory. Use object spilling that's enabled by default (https://docs.ray.io/en/releases-2.0.0/ray-core/objects/object-spilling.html) instead to bypass the object store memory size limitation.\n",
      "\u001b[2m\u001b[36m(ServeReplica:ServeModel pid=7532)\u001b[0m   warnings.warn(\n",
      "\u001b[2m\u001b[36m(ServeReplica:ServeModel pid=7532)\u001b[0m 2022-09-05 14:21:48,441\tWARNING deprecation.py:47 -- DeprecationWarning: `simple_optimizer` has been deprecated. This will raise an error in the future!\n",
      "\u001b[2m\u001b[36m(ServeReplica:ServeModel pid=7532)\u001b[0m 2022-09-05 14:21:48,442\tWARNING deprecation.py:47 -- DeprecationWarning: `config['multiagent']['replay_mode']` has been deprecated. config['replay_buffer_config']['replay_mode'] This will raise an error in the future!\n",
      "\u001b[2m\u001b[36m(pid=11188)\u001b[0m C:\\Users\\Paul\\AppData\\Roaming\\Python\\Python39\\site-packages\\flatbuffers\\compat.py:19: DeprecationWarning: the imp module is deprecated in favour of importlib; see the module's documentation for alternative uses\n",
      "\u001b[2m\u001b[36m(pid=11188)\u001b[0m   import imp\n",
      "\u001b[2m\u001b[36m(pid=11188)\u001b[0m C:\\Users\\Paul\\AppData\\Roaming\\Python\\Python39\\site-packages\\keras\\utils\\image_utils.py:36: DeprecationWarning: NEAREST is deprecated and will be removed in Pillow 10 (2023-07-01). Use Resampling.NEAREST or Dither.NONE instead.\n",
      "\u001b[2m\u001b[36m(pid=11188)\u001b[0m   'nearest': pil_image.NEAREST,\n",
      "\u001b[2m\u001b[36m(pid=11188)\u001b[0m C:\\Users\\Paul\\AppData\\Roaming\\Python\\Python39\\site-packages\\keras\\utils\\image_utils.py:37: DeprecationWarning: BILINEAR is deprecated and will be removed in Pillow 10 (2023-07-01). Use Resampling.BILINEAR instead.\n",
      "\u001b[2m\u001b[36m(pid=11188)\u001b[0m   'bilinear': pil_image.BILINEAR,\n",
      "\u001b[2m\u001b[36m(pid=11188)\u001b[0m C:\\Users\\Paul\\AppData\\Roaming\\Python\\Python39\\site-packages\\keras\\utils\\image_utils.py:38: DeprecationWarning: BICUBIC is deprecated and will be removed in Pillow 10 (2023-07-01). Use Resampling.BICUBIC instead.\n",
      "\u001b[2m\u001b[36m(pid=11188)\u001b[0m   'bicubic': pil_image.BICUBIC,\n",
      "\u001b[2m\u001b[36m(pid=11188)\u001b[0m C:\\Users\\Paul\\AppData\\Roaming\\Python\\Python39\\site-packages\\keras\\utils\\image_utils.py:39: DeprecationWarning: HAMMING is deprecated and will be removed in Pillow 10 (2023-07-01). Use Resampling.HAMMING instead.\n",
      "\u001b[2m\u001b[36m(pid=11188)\u001b[0m   'hamming': pil_image.HAMMING,\n",
      "\u001b[2m\u001b[36m(pid=11188)\u001b[0m C:\\Users\\Paul\\AppData\\Roaming\\Python\\Python39\\site-packages\\keras\\utils\\image_utils.py:40: DeprecationWarning: BOX is deprecated and will be removed in Pillow 10 (2023-07-01). Use Resampling.BOX instead.\n",
      "\u001b[2m\u001b[36m(pid=11188)\u001b[0m   'box': pil_image.BOX,\n",
      "\u001b[2m\u001b[36m(pid=11188)\u001b[0m C:\\Users\\Paul\\AppData\\Roaming\\Python\\Python39\\site-packages\\keras\\utils\\image_utils.py:41: DeprecationWarning: LANCZOS is deprecated and will be removed in Pillow 10 (2023-07-01). Use Resampling.LANCZOS instead.\n",
      "\u001b[2m\u001b[36m(pid=11188)\u001b[0m   'lanczos': pil_image.LANCZOS,\n",
      "\u001b[2m\u001b[36m(pid=11188)\u001b[0m c:\\Users\\Paul\\miniconda3\\envs\\tfmenv\\lib\\site-packages\\tensorflow_probability\\python\\__init__.py:57: DeprecationWarning: distutils Version classes are deprecated. Use packaging.version instead.\n",
      "\u001b[2m\u001b[36m(pid=11188)\u001b[0m   if (distutils.version.LooseVersion(tf.__version__) <\n",
      "\u001b[2m\u001b[36m(ServeReplica:ServeModel pid=7532)\u001b[0m 2022-09-05 14:21:54,029\tINFO trainable.py:668 -- Restored on 127.0.0.1 from checkpoint: ..\\models\\offline_rl\\interest_evolution\\BCTrainer\\checkpoint_000117\n",
      "\u001b[2m\u001b[36m(ServeReplica:ServeModel pid=7532)\u001b[0m 2022-09-05 14:21:54,029\tINFO trainable.py:677 -- Current state after restoring: {'_iteration': 117, '_timesteps_total': None, '_time_total': 1625.2888507843018, '_episodes_total': 0}\n"
     ]
    }
   ],
   "source": [
    "serve.start()\n",
    "\n",
    "@serve.deployment(route_prefix=\"/long-term-satisfaction\")\n",
    "class ServeModel:\n",
    "    def __init__(self, checkpoint_path) -> None:\n",
    "        self.trainer = config_bc.build()\n",
    "        self.trainer.restore(checkpoint_path)\n",
    "\n",
    "    async def __call__(self, request: Request):\n",
    "        json_input = await request.json()\n",
    "        obs = json_input[\"observation\"]\n",
    "        # Translate obs back to np.arrays.\n",
    "        np_obs = OrderedDict(tree.map_structure(lambda s: np.array(s) if isinstance(s, list) else s, obs))\n",
    "        action = self.trainer.compute_single_action(np_obs, explore=False)\n",
    "        return {\"action\": action}\n",
    "\n",
    "\n",
    "ServeModel.deploy(checkpoint_file)"
   ]
  },
  {
   "cell_type": "code",
   "execution_count": 9,
   "metadata": {},
   "outputs": [
    {
     "name": "stdout",
     "output_type": "stream",
     "text": [
      "-> Sending observation OrderedDict([('item', [[0.978618323802948], [0.7991585731506348], [0.4614793658256531], [0.7805292010307312], [0.11827442795038223], [0.6399210095405579], [0.14335328340530396], [0.9446688890457153], [0.5218483209609985], [0.4146619439125061], [0.26455560326576233], [0.7742336988449097], [0.4561503231525421], [0.568433940410614], [0.018789799883961678], [0.6176354885101318], [0.6120957136154175], [0.6169340014457703], [0.9437480568885803], [0.681820273399353]])])\n"
     ]
    },
    {
     "name": "stderr",
     "output_type": "stream",
     "text": [
      "\u001b[2m\u001b[36m(ServeReplica:ServeModel pid=7532)\u001b[0m C:\\Users\\Paul\\AppData\\Roaming\\Python\\Python39\\site-packages\\gym\\spaces\\box.py:155: UserWarning: \u001b[33mWARN: Casting input x to numpy array.\u001b[0m\n",
      "\u001b[2m\u001b[36m(ServeReplica:ServeModel pid=7532)\u001b[0m   logger.warn(\"Casting input x to numpy array.\")\n",
      "\u001b[2m\u001b[36m(ServeReplica:ServeModel pid=7532)\u001b[0m INFO 2022-09-05 14:21:56,668 ServeModel ServeModel#HHIaQS replica.py:482 - HANDLE __call__ OK 15.1ms\n",
      "\u001b[2m\u001b[36m(HTTPProxyActor pid=22640)\u001b[0m INFO 2022-09-05 14:21:56,669 http_proxy 127.0.0.1 http_proxy.py:315 - GET /long-term-satisfaction 200 20.1ms\n"
     ]
    },
    {
     "name": "stdout",
     "output_type": "stream",
     "text": [
      "<- got {'action': 193}\n",
      "-> Sending observation OrderedDict([('item', [[0.35950788855552673], [0.43703195452690125], [0.6976311802864075], [0.0602254718542099], [0.6667667031288147], [0.670637845993042], [0.21038256585597992], [0.12892629206180573], [0.31542834639549255], [0.36371076107025146], [0.5701967477798462], [0.4386015236377716], [0.9883738160133362], [0.10204481333494186], [0.20887675881385803], [0.16130951046943665], [0.6531082987785339], [0.25329160690307617], [0.4663107693195343], [0.24442559480667114]])])\n",
      "<- got {'action': 149}\n",
      "-> Sending observation OrderedDict([('item', [[0.15896958112716675], [0.11037514358758926], [0.6563295722007751], [0.13818295300006866], [0.1965823620557785], [0.3687251806259155], [0.8209932446479797], [0.09710127860307693], [0.8379449248313904], [0.0960984081029892], [0.9764594435691833], [0.4686512053012848], [0.9767611026763916], [0.6048455238342285], [0.7392635941505432], [0.03918779268860817], [0.28280696272850037], [0.12019655853509903], [0.296140193939209], [0.11872772127389908]])])\n"
     ]
    },
    {
     "name": "stderr",
     "output_type": "stream",
     "text": [
      "\u001b[2m\u001b[36m(HTTPProxyActor pid=22640)\u001b[0m INFO 2022-09-05 14:21:58,714 http_proxy 127.0.0.1 http_proxy.py:315 - GET /long-term-satisfaction 200 3.8ms\n",
      "\u001b[2m\u001b[36m(ServeReplica:ServeModel pid=7532)\u001b[0m INFO 2022-09-05 14:21:58,713 ServeModel ServeModel#HHIaQS replica.py:482 - HANDLE __call__ OK 1.8ms\n"
     ]
    },
    {
     "name": "stdout",
     "output_type": "stream",
     "text": [
      "<- got {'action': 264}\n",
      "-> Sending observation OrderedDict([('item', [[0.3179831802845001], [0.414262980222702], [0.06414749473333359], [0.6924721002578735], [0.5666014552116394], [0.26538950204849243], [0.5232480764389038], [0.09394051134586334], [0.5759465098381042], [0.9292961955070496], [0.3185689449310303], [0.6674103736877441], [0.13179786503314972], [0.7163271903991699], [0.28940609097480774], [0.18319135904312134], [0.5865129232406616], [0.02010754682123661], [0.8289400339126587], [0.004695476032793522]])])\n"
     ]
    },
    {
     "name": "stderr",
     "output_type": "stream",
     "text": [
      "\u001b[2m\u001b[36m(HTTPProxyActor pid=22640)\u001b[0m INFO 2022-09-05 14:22:00,740 http_proxy 127.0.0.1 http_proxy.py:315 - GET /long-term-satisfaction 200 4.5ms\n",
      "\u001b[2m\u001b[36m(ServeReplica:ServeModel pid=7532)\u001b[0m INFO 2022-09-05 14:22:00,739 ServeModel ServeModel#HHIaQS replica.py:482 - HANDLE __call__ OK 1.3ms\n"
     ]
    },
    {
     "name": "stdout",
     "output_type": "stream",
     "text": [
      "<- got {'action': 76}\n",
      "-> Sending observation OrderedDict([('item', [[0.6778165102005005], [0.2700079679489136], [0.7351940274238586], [0.9621885418891907], [0.2487531453371048], [0.5761573314666748], [0.5920419096946716], [0.5722519159317017], [0.22308163344860077], [0.9527490139007568], [0.4471253752708435], [0.8464086651802063], [0.6994792819023132], [0.2974369525909424], [0.8137978315353394], [0.396505743265152], [0.8811032176017761], [0.5812729001045227], [0.8817353844642639], [0.6925315856933594]])])\n"
     ]
    },
    {
     "name": "stderr",
     "output_type": "stream",
     "text": [
      "\u001b[2m\u001b[36m(HTTPProxyActor pid=22640)\u001b[0m INFO 2022-09-05 14:22:02,785 http_proxy 127.0.0.1 http_proxy.py:315 - GET /long-term-satisfaction 200 4.1ms\n",
      "\u001b[2m\u001b[36m(ServeReplica:ServeModel pid=7532)\u001b[0m INFO 2022-09-05 14:22:02,784 ServeModel ServeModel#HHIaQS replica.py:482 - HANDLE __call__ OK 1.0ms\n"
     ]
    },
    {
     "name": "stdout",
     "output_type": "stream",
     "text": [
      "<- got {'action': 207}\n"
     ]
    },
    {
     "name": "stderr",
     "output_type": "stream",
     "text": [
      "\u001b[2m\u001b[36m(HTTPProxyActor pid=22640)\u001b[0m INFO 2022-09-05 14:22:04,836 http_proxy 127.0.0.1 http_proxy.py:315 - GET /long-term-satisfaction 200 5.4ms\n",
      "\u001b[2m\u001b[36m(ServeReplica:ServeModel pid=7532)\u001b[0m INFO 2022-09-05 14:22:04,834 ServeModel ServeModel#HHIaQS replica.py:482 - HANDLE __call__ OK 1.4ms\n"
     ]
    }
   ],
   "source": [
    "# Request 5 actions of an episode from served policy.\n",
    "obs = offline_rl_env.reset()\n",
    "\n",
    "for _ in range(5):\n",
    "    # Convert numpy arrays to lists (needed for transfer).\n",
    "    obs = tree.map_structure(lambda s: s.tolist() if isinstance(s, np.ndarray) else s, obs)\n",
    "\n",
    "    print(f\"-> Sending observation {obs}\")\n",
    "    resp = requests.get(\n",
    "        \"http://localhost:8000/long-term-satisfaction\", json={\"observation\": obs}\n",
    "    )\n",
    "    response_json = resp.json()\n",
    "    print(f\"<- got {response_json}\")\n",
    "    obs, _, _, _ = offline_rl_env.step(np.array(response_json[\"action\"]))\n"
   ]
  }
 ],
 "metadata": {
  "kernelspec": {
   "display_name": "Python 3.9.0 ('tfmenv')",
   "language": "python",
   "name": "python3"
  },
  "language_info": {
   "codemirror_mode": {
    "name": "ipython",
    "version": 3
   },
   "file_extension": ".py",
   "mimetype": "text/x-python",
   "name": "python",
   "nbconvert_exporter": "python",
   "pygments_lexer": "ipython3",
   "version": "3.9.0"
  },
  "orig_nbformat": 4,
  "vscode": {
   "interpreter": {
    "hash": "139d4b1674f9ad0c49a1e111d60a00fbc71055d14589fdcbb2b26be36c2445c0"
   }
  }
 },
 "nbformat": 4,
 "nbformat_minor": 2
}
