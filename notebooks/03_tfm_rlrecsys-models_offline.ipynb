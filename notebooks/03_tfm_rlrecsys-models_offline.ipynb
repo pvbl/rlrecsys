{
 "cells": [
  {
   "cell_type": "markdown",
   "metadata": {},
   "source": [
    "# Introducción Modelos offline\n",
    "A continuación utilizaremos el fichero creado anteriormente a partir del enviroment de recsim  de Interest Rate con DQN para evaluar diferentes modelos offline. Los modelos offline permiten, a partir de información de interacciones de usuario, generar un modelo de RL. En este caso, la principal diferencial con los modelos online es que no tienes el feedback directo del usuario a partir de las acciones realizadas. Para intentar trabajar con este problema, los modelos DQN asigna una probabilidad asociada a cada interacción que es utilizada con estos modelos.\n",
    "\n",
    "<a id='model_pick'></a>\n",
    "## Modelos offline de RL\n",
    "RLlib tiene una gran cantidad de modelos offline que pueden ser utilizados para entrenar un modelo a partir de un fichero con interacciones del usuario con los productos.  Los modelos que veremos serán los siguientes:\n",
    "\n",
    "\n",
    "- Behavior Cloning model (BC)\n",
    "- Marwil\n",
    "Para estos utilizaremos métricas offline ImportanceSampling y WeightedImportanceSampling.\n",
    "\n",
    "Se han probado otros pero debido a la multi-dimensionalidad de este caso de uso, no eran válidos.\n",
    "\n",
    "# Flujo\n",
    "1. Se cargan los datos guardados en json del modelo DQN con el entorno InterestEvolution\n",
    "2. Se genera el modelo BCTrainer con estos datos \n",
    "3. Se persiste este modelo para posteriormente levantar una API rest con el mismo\n",
    "4. Se genera el modelo Marwil\n",
    "\n",
    "\n"
   ]
  },
  {
   "cell_type": "markdown",
   "metadata": {},
   "source": []
  },
  {
   "cell_type": "markdown",
   "metadata": {},
   "source": [
    "<a id='recsim'></a>\n",
    "# Librería recsim, entorno de RL"
   ]
  },
  {
   "cell_type": "code",
   "execution_count": 1,
   "metadata": {},
   "outputs": [],
   "source": [
    "%load_ext autoreload\n",
    "%autoreload 2"
   ]
  },
  {
   "cell_type": "code",
   "execution_count": 2,
   "metadata": {},
   "outputs": [
    {
     "name": "stderr",
     "output_type": "stream",
     "text": [
      "C:\\Users\\Paul\\AppData\\Roaming\\Python\\Python39\\site-packages\\flatbuffers\\compat.py:19: DeprecationWarning: the imp module is deprecated in favour of importlib; see the module's documentation for alternative uses\n",
      "  import imp\n",
      "C:\\Users\\Paul\\AppData\\Roaming\\Python\\Python39\\site-packages\\keras\\utils\\image_utils.py:36: DeprecationWarning: NEAREST is deprecated and will be removed in Pillow 10 (2023-07-01). Use Resampling.NEAREST or Dither.NONE instead.\n",
      "  'nearest': pil_image.NEAREST,\n",
      "C:\\Users\\Paul\\AppData\\Roaming\\Python\\Python39\\site-packages\\keras\\utils\\image_utils.py:37: DeprecationWarning: BILINEAR is deprecated and will be removed in Pillow 10 (2023-07-01). Use Resampling.BILINEAR instead.\n",
      "  'bilinear': pil_image.BILINEAR,\n",
      "C:\\Users\\Paul\\AppData\\Roaming\\Python\\Python39\\site-packages\\keras\\utils\\image_utils.py:38: DeprecationWarning: BICUBIC is deprecated and will be removed in Pillow 10 (2023-07-01). Use Resampling.BICUBIC instead.\n",
      "  'bicubic': pil_image.BICUBIC,\n",
      "C:\\Users\\Paul\\AppData\\Roaming\\Python\\Python39\\site-packages\\keras\\utils\\image_utils.py:39: DeprecationWarning: HAMMING is deprecated and will be removed in Pillow 10 (2023-07-01). Use Resampling.HAMMING instead.\n",
      "  'hamming': pil_image.HAMMING,\n",
      "C:\\Users\\Paul\\AppData\\Roaming\\Python\\Python39\\site-packages\\keras\\utils\\image_utils.py:40: DeprecationWarning: BOX is deprecated and will be removed in Pillow 10 (2023-07-01). Use Resampling.BOX instead.\n",
      "  'box': pil_image.BOX,\n",
      "C:\\Users\\Paul\\AppData\\Roaming\\Python\\Python39\\site-packages\\keras\\utils\\image_utils.py:41: DeprecationWarning: LANCZOS is deprecated and will be removed in Pillow 10 (2023-07-01). Use Resampling.LANCZOS instead.\n",
      "  'lanczos': pil_image.LANCZOS,\n",
      "c:\\Users\\Paul\\miniconda3\\envs\\tfmenv\\lib\\site-packages\\tensorflow_probability\\python\\__init__.py:57: DeprecationWarning: distutils Version classes are deprecated. Use packaging.version instead.\n",
      "  if (distutils.version.LooseVersion(tf.__version__) <\n",
      "C:\\Users\\Paul\\AppData\\Roaming\\Python\\Python39\\site-packages\\gin\\tf\\__init__.py:48: DeprecationWarning: distutils Version classes are deprecated. Use packaging.version instead.\n",
      "  if (distutils.version.LooseVersion(tf.__version__) <\n",
      "2022-09-10 22:32:01,762\tWARNING deprecation.py:47 -- DeprecationWarning: `ray.rllib.agents.cql` has been deprecated. Use `ray.rllib.algorithms.cql` instead. This will raise an error in the future!\n",
      "2022-09-10 22:32:01,773\tWARNING deprecation.py:47 -- DeprecationWarning: `ray.rllib.agents.marwil` has been deprecated. Use `ray.rllib.algorithms.[marwil|bc]` instead. This will raise an error in the future!\n"
     ]
    }
   ],
   "source": [
    "# Librerías estandar\n",
    "import pandas as pd\n",
    "import numpy as np\n",
    "import matplotlib.pyplot as plt\n",
    "from pprint import pprint\n",
    "from progressbar import ProgressBar\n",
    "import os\n",
    "# librerias para RL\n",
    "import ray\n",
    "from ray import tune\n",
    "## environment\n",
    "from ray.rllib.examples.env.recommender_system_envs_with_recsim import LongTermSatisfactionRecSimEnv, InterestEvolutionRecSimEnv\n",
    "## agentes\n",
    "from ray.rllib.agents.cql import CQLTrainer, CQL_DEFAULT_CONFIG\n",
    "from ray.rllib.agents.marwil import MARWILTrainer, MARWILConfig\n",
    "from ray.rllib.agents.marwil import BCTrainer, BCConfig # derivado del MARWIL\n",
    "from ray.rllib.offline.estimators import (\n",
    "    ImportanceSampling,\n",
    "    WeightedImportanceSampling,\n",
    "    DirectMethod,\n",
    "    DoublyRobust,\n",
    ")\n",
    "#from ray.rllib.offline.estimators.fqe_torch_model import FQETorchModel\n",
    "\n",
    "\n",
    "import gym  # RL environments and action/observation spaces\n",
    "\n",
    "\n"
   ]
  },
  {
   "cell_type": "code",
   "execution_count": 3,
   "metadata": {},
   "outputs": [],
   "source": [
    "# cargamos las funciones que hemos guardado dentro de la carpeta src\n",
    "# nos permite compartir funciones en diferentes notebooks\n",
    "import sys\n",
    "sys.path.append('../src')\n",
    "from models.rlmodels import  run_rlmodel_episode, run_simulation, run_rlmodel_episode_offline \n",
    "from visualization.visualize import plot_rewards_timestamp\n",
    "from data.env import LTSWithStrongerDissatisfactionEffect \n",
    "from utils.docs import get_json_files"
   ]
  },
  {
   "cell_type": "markdown",
   "metadata": {},
   "source": [
    "# Environment\n",
    "A continuación vemos como es el entorno sobre el que vamos a entrenar nuestro agente"
   ]
  },
  {
   "cell_type": "code",
   "execution_count": 4,
   "metadata": {},
   "outputs": [],
   "source": [
    "SEED = 0\n",
    "\n",
    "## configuración del entorno: 20 posibles candidatos del que seleccionaremos 2\n",
    "# mantendremos esta configuración para los demás agentes también\n",
    "NUM_CANDIDATES = 20\n",
    "SLATE_SIZE = 2\n",
    "REGISTER_ENV_NAME = \"env_ie\""
   ]
  },
  {
   "cell_type": "markdown",
   "metadata": {},
   "source": [
    "# Load\n",
    "Cargamos el fichero de long Interest Rate para utilizarlo posteriormente con los modelos offline. Usaremos el generado por el DQN con el entorno Interest Rate."
   ]
  },
  {
   "cell_type": "code",
   "execution_count": 5,
   "metadata": {},
   "outputs": [
    {
     "data": {
      "text/plain": [
       "'C:\\\\Users\\\\Paul\\\\ray_results\\\\DQN_2022-09-01_17-40-13\\\\DQN_env_ie_5e8d7_00000_0_2022-09-01_17-40-13\\\\data\\\\output-2022-09-01_17-40-45_worker-0_1.json'"
      ]
     },
     "execution_count": 5,
     "metadata": {},
     "output_type": "execute_result"
    }
   ],
   "source": [
    "#OUTPUT_DIR = \"C:\\\\Users\\\\Paul\\\\ray_results\\\\DQN_2022-09-01_17-40-13\\\\DQN_env_ie_5e8d7_00000_0_2022-09-01_17-40-13\\\\data\"\n",
    "json_output_file = \"C:\\\\Users\\\\Paul\\\\ray_results\\\\DQN_2022-09-01_17-40-13\\\\DQN_env_ie_5e8d7_00000_0_2022-09-01_17-40-13\\\\data\\\\output-2022-09-01_17-40-45_worker-0_1.json\"\n",
    "json_output_file"
   ]
  },
  {
   "cell_type": "markdown",
   "metadata": {},
   "source": [
    "Cargamos el entorno que utilizaremos del modelo offline y que nos permitirá a posteriori añadir información a los modelos offline"
   ]
  },
  {
   "cell_type": "code",
   "execution_count": 6,
   "metadata": {},
   "outputs": [],
   "source": [
    "offline_rl_env = InterestEvolutionRecSimEnv({\n",
    "    \"num_candidates\": NUM_CANDIDATES,\n",
    "    \"slate_size\": SLATE_SIZE,\n",
    "    'resample_documents': False, # si resampleamos los documentos en cada episodio\n",
    "\n",
    "    \"wrap_for_bandits\": False,  # SlateQ != Bandit\n",
    "    \"convert_to_discrete_action_space\": True,\n",
    "     \"wrap_for_bandits\": True,  \n",
    "})\n",
    "\n"
   ]
  },
  {
   "cell_type": "code",
   "execution_count": 7,
   "metadata": {},
   "outputs": [
    {
     "data": {
      "text/html": [
       "<div>\n",
       "<style scoped>\n",
       "    .dataframe tbody tr th:only-of-type {\n",
       "        vertical-align: middle;\n",
       "    }\n",
       "\n",
       "    .dataframe tbody tr th {\n",
       "        vertical-align: top;\n",
       "    }\n",
       "\n",
       "    .dataframe thead th {\n",
       "        text-align: right;\n",
       "    }\n",
       "</style>\n",
       "<table border=\"1\" class=\"dataframe\">\n",
       "  <thead>\n",
       "    <tr style=\"text-align: right;\">\n",
       "      <th></th>\n",
       "      <th>type</th>\n",
       "      <th>obs</th>\n",
       "      <th>new_obs</th>\n",
       "      <th>actions</th>\n",
       "      <th>prev_actions</th>\n",
       "      <th>rewards</th>\n",
       "      <th>prev_rewards</th>\n",
       "      <th>dones</th>\n",
       "      <th>infos</th>\n",
       "      <th>t</th>\n",
       "      <th>eps_id</th>\n",
       "      <th>unroll_id</th>\n",
       "      <th>agent_index</th>\n",
       "      <th>q_values</th>\n",
       "      <th>action_dist_inputs</th>\n",
       "      <th>action_logp</th>\n",
       "      <th>action_prob</th>\n",
       "      <th>weights</th>\n",
       "    </tr>\n",
       "  </thead>\n",
       "  <tbody>\n",
       "    <tr>\n",
       "      <th>0</th>\n",
       "      <td>SampleBatch</td>\n",
       "      <td>BCJNGGhAgRkAAAAAAAB4VQIAAGGABZV2GQABAPMZjBJudW...</td>\n",
       "      <td>BCJNGGhAgRkAAAAAAAB4VQIAAGGABZV2GQABAPMZjBJudW...</td>\n",
       "      <td>[258, 58, 374, 55]</td>\n",
       "      <td>[364, 258, 58, 374]</td>\n",
       "      <td>[0.0, 0.0, 0.0, 0.0]</td>\n",
       "      <td>[0.0, 0.0, 0.0, 0.0]</td>\n",
       "      <td>[False, False, False, False]</td>\n",
       "      <td>[{'env': '&lt;recsim.simulator.environment.Single...</td>\n",
       "      <td>[47, 48, 49, 50]</td>\n",
       "      <td>[1109658755, 1109658755, 1109658755, 1109658755]</td>\n",
       "      <td>[1027, 1027, 1027, 1027]</td>\n",
       "      <td>[0, 0, 0, 0]</td>\n",
       "      <td>[[15.685279846191406, 15.421998977661133, 14.0...</td>\n",
       "      <td>[[15.685279846191406, 15.421998977661133, 14.0...</td>\n",
       "      <td>[-7.300140380859375, -4.897860527038574, -5.33...</td>\n",
       "      <td>[0.000675443967338, 0.007462531793862001, 0.00...</td>\n",
       "      <td>[1.0, 1.0, 1.0, 1.0]</td>\n",
       "    </tr>\n",
       "    <tr>\n",
       "      <th>1</th>\n",
       "      <td>SampleBatch</td>\n",
       "      <td>BCJNGGhAgRkAAAAAAAB4VQIAAGGABZV2GQABAPMZjBJudW...</td>\n",
       "      <td>BCJNGGhAgRkAAAAAAAB4VQIAAGGABZV2GQABAPMZjBJudW...</td>\n",
       "      <td>[226, 48, 197, 55]</td>\n",
       "      <td>[55, 226, 48, 197]</td>\n",
       "      <td>[4.0, 0.0, 4.0, 4.0]</td>\n",
       "      <td>[0.0, 4.0, 0.0, 4.0]</td>\n",
       "      <td>[False, False, False, False]</td>\n",
       "      <td>[{'env': '&lt;recsim.simulator.environment.Single...</td>\n",
       "      <td>[51, 52, 53, 54]</td>\n",
       "      <td>[1109658755, 1109658755, 1109658755, 1109658755]</td>\n",
       "      <td>[1028, 1028, 1028, 1028]</td>\n",
       "      <td>[0, 0, 0, 0]</td>\n",
       "      <td>[[15.557333946228027, 15.320795059204102, 13.9...</td>\n",
       "      <td>[[15.557333946228027, 15.320795059204102, 13.9...</td>\n",
       "      <td>[-3.9688994884490962, -4.296158790588379, -5.2...</td>\n",
       "      <td>[0.018894214183092003, 0.013620778918266001, 0...</td>\n",
       "      <td>[1.0, 1.0, 1.0, 1.0]</td>\n",
       "    </tr>\n",
       "    <tr>\n",
       "      <th>2</th>\n",
       "      <td>SampleBatch</td>\n",
       "      <td>BCJNGGhAgRkAAAAAAAB4VQIAAGGABZV2GQABAPMZjBJudW...</td>\n",
       "      <td>BCJNGGhAgRkAAAAAAAB4VQIAAGGABZV2GQABAPMZjBJudW...</td>\n",
       "      <td>[181, 92, 142, 116]</td>\n",
       "      <td>[55, 181, 92, 142]</td>\n",
       "      <td>[0.0, 0.0, 0.0, 0.0]</td>\n",
       "      <td>[4.0, 0.0, 0.0, 0.0]</td>\n",
       "      <td>[False, False, False, False]</td>\n",
       "      <td>[{'env': '&lt;recsim.simulator.environment.Single...</td>\n",
       "      <td>[55, 56, 57, 58]</td>\n",
       "      <td>[1109658755, 1109658755, 1109658755, 1109658755]</td>\n",
       "      <td>[1029, 1029, 1029, 1029]</td>\n",
       "      <td>[0, 0, 0, 0]</td>\n",
       "      <td>[[15.255053520202637, 15.05372428894043, 13.70...</td>\n",
       "      <td>[[15.255053520202637, 15.05372428894043, 13.70...</td>\n",
       "      <td>[-5.065549850463867, -6.6923322677612305, -5.5...</td>\n",
       "      <td>[0.006310440134257, 0.001240386511199, 0.00381...</td>\n",
       "      <td>[1.0, 1.0, 1.0, 1.0]</td>\n",
       "    </tr>\n",
       "    <tr>\n",
       "      <th>3</th>\n",
       "      <td>SampleBatch</td>\n",
       "      <td>BCJNGGhAgRkAAAAAAAB4VQIAAGGABZV2GQABAPMZjBJudW...</td>\n",
       "      <td>BCJNGGhAgRkAAAAAAAB4VQIAAGGABZV2GQABAPMZjBJudW...</td>\n",
       "      <td>[165, 174, 119, 225]</td>\n",
       "      <td>[116, 165, 174, 119]</td>\n",
       "      <td>[0.0, 4.0, 0.0, 0.0]</td>\n",
       "      <td>[0.0, 0.0, 4.0, 0.0]</td>\n",
       "      <td>[False, False, False, False]</td>\n",
       "      <td>[{'env': '&lt;recsim.simulator.environment.Single...</td>\n",
       "      <td>[59, 60, 61, 62]</td>\n",
       "      <td>[1109658755, 1109658755, 1109658755, 1109658755]</td>\n",
       "      <td>[1030, 1030, 1030, 1030]</td>\n",
       "      <td>[0, 0, 0, 0]</td>\n",
       "      <td>[[14.899430274963379, 14.733202934265137, 13.3...</td>\n",
       "      <td>[[14.899430274963379, 14.733202934265137, 13.3...</td>\n",
       "      <td>[-6.127820491790771, -6.252415180206299, -5.24...</td>\n",
       "      <td>[0.002181329997256, 0.0019257973181080002, 0.0...</td>\n",
       "      <td>[1.0, 1.0, 1.0, 1.0]</td>\n",
       "    </tr>\n",
       "    <tr>\n",
       "      <th>4</th>\n",
       "      <td>SampleBatch</td>\n",
       "      <td>BCJNGGhAgRkAAAAAAAB4VQIAAGGABZV2GQABAPMZjBJudW...</td>\n",
       "      <td>BCJNGGhAgRkAAAAAAAB4VQIAAGGABZV2GQABAPMZjBJudW...</td>\n",
       "      <td>[48, 24, 149, 128]</td>\n",
       "      <td>[225, 48, 24, 149]</td>\n",
       "      <td>[0.0, 4.0, 4.0, 0.0]</td>\n",
       "      <td>[0.0, 0.0, 4.0, 4.0]</td>\n",
       "      <td>[False, False, False, False]</td>\n",
       "      <td>[{'env': '&lt;recsim.simulator.environment.Single...</td>\n",
       "      <td>[63, 64, 65, 66]</td>\n",
       "      <td>[1109658755, 1109658755, 1109658755, 1109658755]</td>\n",
       "      <td>[1031, 1031, 1031, 1031]</td>\n",
       "      <td>[0, 0, 0, 0]</td>\n",
       "      <td>[[14.712350845336914, 14.580305099487305, 13.2...</td>\n",
       "      <td>[[14.712350845336914, 14.580305099487305, 13.2...</td>\n",
       "      <td>[-4.484161376953125, -5.423988342285156, -5.00...</td>\n",
       "      <td>[0.011286348104476, 0.004409524612128, 0.00669...</td>\n",
       "      <td>[1.0, 1.0, 1.0, 1.0]</td>\n",
       "    </tr>\n",
       "  </tbody>\n",
       "</table>\n",
       "</div>"
      ],
      "text/plain": [
       "          type                                                obs  \\\n",
       "0  SampleBatch  BCJNGGhAgRkAAAAAAAB4VQIAAGGABZV2GQABAPMZjBJudW...   \n",
       "1  SampleBatch  BCJNGGhAgRkAAAAAAAB4VQIAAGGABZV2GQABAPMZjBJudW...   \n",
       "2  SampleBatch  BCJNGGhAgRkAAAAAAAB4VQIAAGGABZV2GQABAPMZjBJudW...   \n",
       "3  SampleBatch  BCJNGGhAgRkAAAAAAAB4VQIAAGGABZV2GQABAPMZjBJudW...   \n",
       "4  SampleBatch  BCJNGGhAgRkAAAAAAAB4VQIAAGGABZV2GQABAPMZjBJudW...   \n",
       "\n",
       "                                             new_obs               actions  \\\n",
       "0  BCJNGGhAgRkAAAAAAAB4VQIAAGGABZV2GQABAPMZjBJudW...    [258, 58, 374, 55]   \n",
       "1  BCJNGGhAgRkAAAAAAAB4VQIAAGGABZV2GQABAPMZjBJudW...    [226, 48, 197, 55]   \n",
       "2  BCJNGGhAgRkAAAAAAAB4VQIAAGGABZV2GQABAPMZjBJudW...   [181, 92, 142, 116]   \n",
       "3  BCJNGGhAgRkAAAAAAAB4VQIAAGGABZV2GQABAPMZjBJudW...  [165, 174, 119, 225]   \n",
       "4  BCJNGGhAgRkAAAAAAAB4VQIAAGGABZV2GQABAPMZjBJudW...    [48, 24, 149, 128]   \n",
       "\n",
       "           prev_actions               rewards          prev_rewards  \\\n",
       "0   [364, 258, 58, 374]  [0.0, 0.0, 0.0, 0.0]  [0.0, 0.0, 0.0, 0.0]   \n",
       "1    [55, 226, 48, 197]  [4.0, 0.0, 4.0, 4.0]  [0.0, 4.0, 0.0, 4.0]   \n",
       "2    [55, 181, 92, 142]  [0.0, 0.0, 0.0, 0.0]  [4.0, 0.0, 0.0, 0.0]   \n",
       "3  [116, 165, 174, 119]  [0.0, 4.0, 0.0, 0.0]  [0.0, 0.0, 4.0, 0.0]   \n",
       "4    [225, 48, 24, 149]  [0.0, 4.0, 4.0, 0.0]  [0.0, 0.0, 4.0, 4.0]   \n",
       "\n",
       "                          dones  \\\n",
       "0  [False, False, False, False]   \n",
       "1  [False, False, False, False]   \n",
       "2  [False, False, False, False]   \n",
       "3  [False, False, False, False]   \n",
       "4  [False, False, False, False]   \n",
       "\n",
       "                                               infos                 t  \\\n",
       "0  [{'env': '<recsim.simulator.environment.Single...  [47, 48, 49, 50]   \n",
       "1  [{'env': '<recsim.simulator.environment.Single...  [51, 52, 53, 54]   \n",
       "2  [{'env': '<recsim.simulator.environment.Single...  [55, 56, 57, 58]   \n",
       "3  [{'env': '<recsim.simulator.environment.Single...  [59, 60, 61, 62]   \n",
       "4  [{'env': '<recsim.simulator.environment.Single...  [63, 64, 65, 66]   \n",
       "\n",
       "                                             eps_id                 unroll_id  \\\n",
       "0  [1109658755, 1109658755, 1109658755, 1109658755]  [1027, 1027, 1027, 1027]   \n",
       "1  [1109658755, 1109658755, 1109658755, 1109658755]  [1028, 1028, 1028, 1028]   \n",
       "2  [1109658755, 1109658755, 1109658755, 1109658755]  [1029, 1029, 1029, 1029]   \n",
       "3  [1109658755, 1109658755, 1109658755, 1109658755]  [1030, 1030, 1030, 1030]   \n",
       "4  [1109658755, 1109658755, 1109658755, 1109658755]  [1031, 1031, 1031, 1031]   \n",
       "\n",
       "    agent_index                                           q_values  \\\n",
       "0  [0, 0, 0, 0]  [[15.685279846191406, 15.421998977661133, 14.0...   \n",
       "1  [0, 0, 0, 0]  [[15.557333946228027, 15.320795059204102, 13.9...   \n",
       "2  [0, 0, 0, 0]  [[15.255053520202637, 15.05372428894043, 13.70...   \n",
       "3  [0, 0, 0, 0]  [[14.899430274963379, 14.733202934265137, 13.3...   \n",
       "4  [0, 0, 0, 0]  [[14.712350845336914, 14.580305099487305, 13.2...   \n",
       "\n",
       "                                  action_dist_inputs  \\\n",
       "0  [[15.685279846191406, 15.421998977661133, 14.0...   \n",
       "1  [[15.557333946228027, 15.320795059204102, 13.9...   \n",
       "2  [[15.255053520202637, 15.05372428894043, 13.70...   \n",
       "3  [[14.899430274963379, 14.733202934265137, 13.3...   \n",
       "4  [[14.712350845336914, 14.580305099487305, 13.2...   \n",
       "\n",
       "                                         action_logp  \\\n",
       "0  [-7.300140380859375, -4.897860527038574, -5.33...   \n",
       "1  [-3.9688994884490962, -4.296158790588379, -5.2...   \n",
       "2  [-5.065549850463867, -6.6923322677612305, -5.5...   \n",
       "3  [-6.127820491790771, -6.252415180206299, -5.24...   \n",
       "4  [-4.484161376953125, -5.423988342285156, -5.00...   \n",
       "\n",
       "                                         action_prob               weights  \n",
       "0  [0.000675443967338, 0.007462531793862001, 0.00...  [1.0, 1.0, 1.0, 1.0]  \n",
       "1  [0.018894214183092003, 0.013620778918266001, 0...  [1.0, 1.0, 1.0, 1.0]  \n",
       "2  [0.006310440134257, 0.001240386511199, 0.00381...  [1.0, 1.0, 1.0, 1.0]  \n",
       "3  [0.002181329997256, 0.0019257973181080002, 0.0...  [1.0, 1.0, 1.0, 1.0]  \n",
       "4  [0.011286348104476, 0.004409524612128, 0.00669...  [1.0, 1.0, 1.0, 1.0]  "
      ]
     },
     "execution_count": 7,
     "metadata": {},
     "output_type": "execute_result"
    }
   ],
   "source": [
    "df = pd.read_json(json_output_file,lines=True)\n",
    "df.head()"
   ]
  },
  {
   "cell_type": "code",
   "execution_count": 8,
   "metadata": {},
   "outputs": [
    {
     "data": {
      "text/plain": [
       "(1028, 18)"
      ]
     },
     "execution_count": 8,
     "metadata": {},
     "output_type": "execute_result"
    }
   ],
   "source": [
    "df.shape"
   ]
  },
  {
   "cell_type": "code",
   "execution_count": 9,
   "metadata": {},
   "outputs": [
    {
     "name": "stdout",
     "output_type": "stream",
     "text": [
      "<class 'pandas.core.frame.DataFrame'>\n",
      "RangeIndex: 1028 entries, 0 to 1027\n",
      "Data columns (total 18 columns):\n",
      " #   Column              Non-Null Count  Dtype \n",
      "---  ------              --------------  ----- \n",
      " 0   type                1028 non-null   object\n",
      " 1   obs                 1028 non-null   object\n",
      " 2   new_obs             1028 non-null   object\n",
      " 3   actions             1028 non-null   object\n",
      " 4   prev_actions        1028 non-null   object\n",
      " 5   rewards             1028 non-null   object\n",
      " 6   prev_rewards        1028 non-null   object\n",
      " 7   dones               1028 non-null   object\n",
      " 8   infos               1028 non-null   object\n",
      " 9   t                   1028 non-null   object\n",
      " 10  eps_id              1028 non-null   object\n",
      " 11  unroll_id           1028 non-null   object\n",
      " 12  agent_index         1028 non-null   object\n",
      " 13  q_values            1028 non-null   object\n",
      " 14  action_dist_inputs  1028 non-null   object\n",
      " 15  action_logp         1028 non-null   object\n",
      " 16  action_prob         1028 non-null   object\n",
      " 17  weights             1028 non-null   object\n",
      "dtypes: object(18)\n",
      "memory usage: 144.7+ KB\n"
     ]
    }
   ],
   "source": [
    "df.info()"
   ]
  },
  {
   "cell_type": "markdown",
   "metadata": {},
   "source": [
    "## Análisis de los datos offline"
   ]
  },
  {
   "cell_type": "code",
   "execution_count": 10,
   "metadata": {},
   "outputs": [
    {
     "data": {
      "text/html": [
       "<div>\n",
       "<style scoped>\n",
       "    .dataframe tbody tr th:only-of-type {\n",
       "        vertical-align: middle;\n",
       "    }\n",
       "\n",
       "    .dataframe tbody tr th {\n",
       "        vertical-align: top;\n",
       "    }\n",
       "\n",
       "    .dataframe thead th {\n",
       "        text-align: right;\n",
       "    }\n",
       "</style>\n",
       "<table border=\"1\" class=\"dataframe\">\n",
       "  <thead>\n",
       "    <tr style=\"text-align: right;\">\n",
       "      <th></th>\n",
       "      <th>index</th>\n",
       "      <th>eps_id</th>\n",
       "      <th>unroll_id</th>\n",
       "      <th>actions</th>\n",
       "      <th>prev_actions</th>\n",
       "      <th>t</th>\n",
       "      <th>rewards</th>\n",
       "      <th>prev_rewards</th>\n",
       "      <th>action_prob</th>\n",
       "      <th>q_values</th>\n",
       "      <th>dones</th>\n",
       "    </tr>\n",
       "  </thead>\n",
       "  <tbody>\n",
       "    <tr>\n",
       "      <th>0</th>\n",
       "      <td>0</td>\n",
       "      <td>1109658755</td>\n",
       "      <td>1027</td>\n",
       "      <td>258</td>\n",
       "      <td>364</td>\n",
       "      <td>47</td>\n",
       "      <td>0.0</td>\n",
       "      <td>0.0</td>\n",
       "      <td>0.000675</td>\n",
       "      <td>[15.685279846191406, 15.421998977661133, 14.08...</td>\n",
       "      <td>0.0</td>\n",
       "    </tr>\n",
       "    <tr>\n",
       "      <th>1</th>\n",
       "      <td>0</td>\n",
       "      <td>1109658755</td>\n",
       "      <td>1027</td>\n",
       "      <td>58</td>\n",
       "      <td>258</td>\n",
       "      <td>48</td>\n",
       "      <td>0.0</td>\n",
       "      <td>0.0</td>\n",
       "      <td>0.007463</td>\n",
       "      <td>[15.685279846191406, 15.421998977661133, 14.08...</td>\n",
       "      <td>0.0</td>\n",
       "    </tr>\n",
       "    <tr>\n",
       "      <th>2</th>\n",
       "      <td>0</td>\n",
       "      <td>1109658755</td>\n",
       "      <td>1027</td>\n",
       "      <td>374</td>\n",
       "      <td>58</td>\n",
       "      <td>49</td>\n",
       "      <td>0.0</td>\n",
       "      <td>0.0</td>\n",
       "      <td>0.004835</td>\n",
       "      <td>[15.685279846191406, 15.421998977661133, 14.08...</td>\n",
       "      <td>0.0</td>\n",
       "    </tr>\n",
       "    <tr>\n",
       "      <th>3</th>\n",
       "      <td>0</td>\n",
       "      <td>1109658755</td>\n",
       "      <td>1027</td>\n",
       "      <td>55</td>\n",
       "      <td>374</td>\n",
       "      <td>50</td>\n",
       "      <td>0.0</td>\n",
       "      <td>0.0</td>\n",
       "      <td>0.006941</td>\n",
       "      <td>[15.685279846191406, 15.421998977661133, 14.08...</td>\n",
       "      <td>0.0</td>\n",
       "    </tr>\n",
       "    <tr>\n",
       "      <th>4</th>\n",
       "      <td>1</td>\n",
       "      <td>1109658755</td>\n",
       "      <td>1028</td>\n",
       "      <td>226</td>\n",
       "      <td>55</td>\n",
       "      <td>51</td>\n",
       "      <td>4.0</td>\n",
       "      <td>0.0</td>\n",
       "      <td>0.018894</td>\n",
       "      <td>[15.557333946228027, 15.320795059204102, 13.97...</td>\n",
       "      <td>0.0</td>\n",
       "    </tr>\n",
       "  </tbody>\n",
       "</table>\n",
       "</div>"
      ],
      "text/plain": [
       "   index      eps_id unroll_id actions prev_actions   t  rewards  \\\n",
       "0      0  1109658755      1027     258          364  47      0.0   \n",
       "1      0  1109658755      1027      58          258  48      0.0   \n",
       "2      0  1109658755      1027     374           58  49      0.0   \n",
       "3      0  1109658755      1027      55          374  50      0.0   \n",
       "4      1  1109658755      1028     226           55  51      4.0   \n",
       "\n",
       "   prev_rewards  action_prob  \\\n",
       "0           0.0     0.000675   \n",
       "1           0.0     0.007463   \n",
       "2           0.0     0.004835   \n",
       "3           0.0     0.006941   \n",
       "4           0.0     0.018894   \n",
       "\n",
       "                                            q_values  dones  \n",
       "0  [15.685279846191406, 15.421998977661133, 14.08...    0.0  \n",
       "1  [15.685279846191406, 15.421998977661133, 14.08...    0.0  \n",
       "2  [15.685279846191406, 15.421998977661133, 14.08...    0.0  \n",
       "3  [15.685279846191406, 15.421998977661133, 14.08...    0.0  \n",
       "4  [15.557333946228027, 15.320795059204102, 13.97...    0.0  "
      ]
     },
     "execution_count": 10,
     "metadata": {},
     "output_type": "execute_result"
    }
   ],
   "source": [
    "cols = [\"eps_id\",\"unroll_id\",\"actions\",\"prev_actions\",\"t\",\"rewards\",\"prev_rewards\",\"action_prob\",\"q_values\",\"dones\"]\n",
    "df_exp = df[cols].apply(pd.Series.explode).reset_index()\n",
    "cols_to_float = [\"rewards\",\"prev_rewards\",\"action_prob\",\"dones\"]\n",
    "df_exp[cols_to_float] = df_exp[cols_to_float].astype(\"float\")\n",
    "cols_to_cat = [\"eps_id\",\"unroll_id\"]\n",
    "df_exp[cols_to_cat] = df_exp[cols_to_cat].astype(\"category\")\n",
    "df_exp.head()\n"
   ]
  },
  {
   "cell_type": "code",
   "execution_count": 11,
   "metadata": {},
   "outputs": [
    {
     "data": {
      "text/html": [
       "<div>\n",
       "<style scoped>\n",
       "    .dataframe tbody tr th:only-of-type {\n",
       "        vertical-align: middle;\n",
       "    }\n",
       "\n",
       "    .dataframe tbody tr th {\n",
       "        vertical-align: top;\n",
       "    }\n",
       "\n",
       "    .dataframe thead th {\n",
       "        text-align: right;\n",
       "    }\n",
       "</style>\n",
       "<table border=\"1\" class=\"dataframe\">\n",
       "  <thead>\n",
       "    <tr style=\"text-align: right;\">\n",
       "      <th></th>\n",
       "      <th>index</th>\n",
       "      <th>eps_id</th>\n",
       "      <th>unroll_id</th>\n",
       "      <th>actions</th>\n",
       "      <th>prev_actions</th>\n",
       "      <th>t</th>\n",
       "      <th>rewards</th>\n",
       "      <th>prev_rewards</th>\n",
       "      <th>action_prob</th>\n",
       "      <th>q_values</th>\n",
       "      <th>dones</th>\n",
       "    </tr>\n",
       "  </thead>\n",
       "  <tbody>\n",
       "    <tr>\n",
       "      <th>count</th>\n",
       "      <td>4112.000000</td>\n",
       "      <td>4.112000e+03</td>\n",
       "      <td>4112.0</td>\n",
       "      <td>4112.0</td>\n",
       "      <td>4112.0</td>\n",
       "      <td>4112.0</td>\n",
       "      <td>4112.000000</td>\n",
       "      <td>4112.000000</td>\n",
       "      <td>4112.000000</td>\n",
       "      <td>4112</td>\n",
       "      <td>4112.000000</td>\n",
       "    </tr>\n",
       "    <tr>\n",
       "      <th>unique</th>\n",
       "      <td>NaN</td>\n",
       "      <td>5.000000e+01</td>\n",
       "      <td>1065.0</td>\n",
       "      <td>399.0</td>\n",
       "      <td>399.0</td>\n",
       "      <td>126.0</td>\n",
       "      <td>NaN</td>\n",
       "      <td>NaN</td>\n",
       "      <td>NaN</td>\n",
       "      <td>1028</td>\n",
       "      <td>NaN</td>\n",
       "    </tr>\n",
       "    <tr>\n",
       "      <th>top</th>\n",
       "      <td>NaN</td>\n",
       "      <td>1.403117e+09</td>\n",
       "      <td>1027.0</td>\n",
       "      <td>226.0</td>\n",
       "      <td>226.0</td>\n",
       "      <td>47.0</td>\n",
       "      <td>NaN</td>\n",
       "      <td>NaN</td>\n",
       "      <td>NaN</td>\n",
       "      <td>[15.685279846191406, 15.421998977661133, 14.08...</td>\n",
       "      <td>NaN</td>\n",
       "    </tr>\n",
       "    <tr>\n",
       "      <th>freq</th>\n",
       "      <td>NaN</td>\n",
       "      <td>1.260000e+02</td>\n",
       "      <td>4.0</td>\n",
       "      <td>37.0</td>\n",
       "      <td>37.0</td>\n",
       "      <td>50.0</td>\n",
       "      <td>NaN</td>\n",
       "      <td>NaN</td>\n",
       "      <td>NaN</td>\n",
       "      <td>4</td>\n",
       "      <td>NaN</td>\n",
       "    </tr>\n",
       "    <tr>\n",
       "      <th>mean</th>\n",
       "      <td>513.500000</td>\n",
       "      <td>NaN</td>\n",
       "      <td>NaN</td>\n",
       "      <td>NaN</td>\n",
       "      <td>NaN</td>\n",
       "      <td>NaN</td>\n",
       "      <td>1.815730</td>\n",
       "      <td>1.815894</td>\n",
       "      <td>0.003493</td>\n",
       "      <td>NaN</td>\n",
       "      <td>0.011916</td>\n",
       "    </tr>\n",
       "    <tr>\n",
       "      <th>std</th>\n",
       "      <td>296.793989</td>\n",
       "      <td>NaN</td>\n",
       "      <td>NaN</td>\n",
       "      <td>NaN</td>\n",
       "      <td>NaN</td>\n",
       "      <td>NaN</td>\n",
       "      <td>1.985049</td>\n",
       "      <td>1.989525</td>\n",
       "      <td>0.002181</td>\n",
       "      <td>NaN</td>\n",
       "      <td>0.108523</td>\n",
       "    </tr>\n",
       "    <tr>\n",
       "      <th>min</th>\n",
       "      <td>0.000000</td>\n",
       "      <td>NaN</td>\n",
       "      <td>NaN</td>\n",
       "      <td>NaN</td>\n",
       "      <td>NaN</td>\n",
       "      <td>NaN</td>\n",
       "      <td>0.000000</td>\n",
       "      <td>0.000000</td>\n",
       "      <td>0.000139</td>\n",
       "      <td>NaN</td>\n",
       "      <td>0.000000</td>\n",
       "    </tr>\n",
       "    <tr>\n",
       "      <th>25%</th>\n",
       "      <td>256.750000</td>\n",
       "      <td>NaN</td>\n",
       "      <td>NaN</td>\n",
       "      <td>NaN</td>\n",
       "      <td>NaN</td>\n",
       "      <td>NaN</td>\n",
       "      <td>0.000000</td>\n",
       "      <td>0.000000</td>\n",
       "      <td>0.002083</td>\n",
       "      <td>NaN</td>\n",
       "      <td>0.000000</td>\n",
       "    </tr>\n",
       "    <tr>\n",
       "      <th>50%</th>\n",
       "      <td>513.500000</td>\n",
       "      <td>NaN</td>\n",
       "      <td>NaN</td>\n",
       "      <td>NaN</td>\n",
       "      <td>NaN</td>\n",
       "      <td>NaN</td>\n",
       "      <td>0.000000</td>\n",
       "      <td>0.000000</td>\n",
       "      <td>0.002974</td>\n",
       "      <td>NaN</td>\n",
       "      <td>0.000000</td>\n",
       "    </tr>\n",
       "    <tr>\n",
       "      <th>75%</th>\n",
       "      <td>770.250000</td>\n",
       "      <td>NaN</td>\n",
       "      <td>NaN</td>\n",
       "      <td>NaN</td>\n",
       "      <td>NaN</td>\n",
       "      <td>NaN</td>\n",
       "      <td>4.000000</td>\n",
       "      <td>4.000000</td>\n",
       "      <td>0.004259</td>\n",
       "      <td>NaN</td>\n",
       "      <td>0.000000</td>\n",
       "    </tr>\n",
       "    <tr>\n",
       "      <th>max</th>\n",
       "      <td>1027.000000</td>\n",
       "      <td>NaN</td>\n",
       "      <td>NaN</td>\n",
       "      <td>NaN</td>\n",
       "      <td>NaN</td>\n",
       "      <td>NaN</td>\n",
       "      <td>4.000000</td>\n",
       "      <td>4.000000</td>\n",
       "      <td>0.018894</td>\n",
       "      <td>NaN</td>\n",
       "      <td>1.000000</td>\n",
       "    </tr>\n",
       "  </tbody>\n",
       "</table>\n",
       "</div>"
      ],
      "text/plain": [
       "              index        eps_id  unroll_id  actions  prev_actions       t  \\\n",
       "count   4112.000000  4.112000e+03     4112.0   4112.0        4112.0  4112.0   \n",
       "unique          NaN  5.000000e+01     1065.0    399.0         399.0   126.0   \n",
       "top             NaN  1.403117e+09     1027.0    226.0         226.0    47.0   \n",
       "freq            NaN  1.260000e+02        4.0     37.0          37.0    50.0   \n",
       "mean     513.500000           NaN        NaN      NaN           NaN     NaN   \n",
       "std      296.793989           NaN        NaN      NaN           NaN     NaN   \n",
       "min        0.000000           NaN        NaN      NaN           NaN     NaN   \n",
       "25%      256.750000           NaN        NaN      NaN           NaN     NaN   \n",
       "50%      513.500000           NaN        NaN      NaN           NaN     NaN   \n",
       "75%      770.250000           NaN        NaN      NaN           NaN     NaN   \n",
       "max     1027.000000           NaN        NaN      NaN           NaN     NaN   \n",
       "\n",
       "            rewards  prev_rewards  action_prob  \\\n",
       "count   4112.000000   4112.000000  4112.000000   \n",
       "unique          NaN           NaN          NaN   \n",
       "top             NaN           NaN          NaN   \n",
       "freq            NaN           NaN          NaN   \n",
       "mean       1.815730      1.815894     0.003493   \n",
       "std        1.985049      1.989525     0.002181   \n",
       "min        0.000000      0.000000     0.000139   \n",
       "25%        0.000000      0.000000     0.002083   \n",
       "50%        0.000000      0.000000     0.002974   \n",
       "75%        4.000000      4.000000     0.004259   \n",
       "max        4.000000      4.000000     0.018894   \n",
       "\n",
       "                                                 q_values        dones  \n",
       "count                                                4112  4112.000000  \n",
       "unique                                               1028          NaN  \n",
       "top     [15.685279846191406, 15.421998977661133, 14.08...          NaN  \n",
       "freq                                                    4          NaN  \n",
       "mean                                                  NaN     0.011916  \n",
       "std                                                   NaN     0.108523  \n",
       "min                                                   NaN     0.000000  \n",
       "25%                                                   NaN     0.000000  \n",
       "50%                                                   NaN     0.000000  \n",
       "75%                                                   NaN     0.000000  \n",
       "max                                                   NaN     1.000000  "
      ]
     },
     "execution_count": 11,
     "metadata": {},
     "output_type": "execute_result"
    }
   ],
   "source": [
    "df_exp.describe(include=\"all\")"
   ]
  },
  {
   "cell_type": "markdown",
   "metadata": {},
   "source": [
    "Por lo que vemos, tenemos un total de 399 acciones diferentes, un total de 50 episodios diferentes con hasta 126 timesteps. \n",
    "\n",
    "El máximo reward es de 4, mientras que el mínimo como es lógico es de 0. El promedio se sitúa en 1.81."
   ]
  },
  {
   "cell_type": "code",
   "execution_count": 12,
   "metadata": {},
   "outputs": [
    {
     "data": {
      "text/plain": [
       "Text(0.5, 1.0, 'histograma de action prob')"
      ]
     },
     "execution_count": 12,
     "metadata": {},
     "output_type": "execute_result"
    },
    {
     "data": {
      "image/png": "[encoded data removed]",
      "text/plain": [
       "<Figure size 640x480 with 1 Axes>"
      ]
     },
     "metadata": {},
     "output_type": "display_data"
    }
   ],
   "source": [
    "df_exp.action_prob.plot(kind=\"hist\")\n",
    "plt.title(\"histograma de action prob\")"
   ]
  },
  {
   "cell_type": "markdown",
   "metadata": {},
   "source": [
    "Veamos cuales son los rewards promedio de las acciones"
   ]
  },
  {
   "cell_type": "code",
   "execution_count": 13,
   "metadata": {},
   "outputs": [
    {
     "data": {
      "text/html": [
       "<div>\n",
       "<style scoped>\n",
       "    .dataframe tbody tr th:only-of-type {\n",
       "        vertical-align: middle;\n",
       "    }\n",
       "\n",
       "    .dataframe tbody tr th {\n",
       "        vertical-align: top;\n",
       "    }\n",
       "\n",
       "    .dataframe thead th {\n",
       "        text-align: right;\n",
       "    }\n",
       "</style>\n",
       "<table border=\"1\" class=\"dataframe\">\n",
       "  <thead>\n",
       "    <tr style=\"text-align: right;\">\n",
       "      <th></th>\n",
       "      <th>mean</th>\n",
       "      <th>count</th>\n",
       "    </tr>\n",
       "    <tr>\n",
       "      <th>actions</th>\n",
       "      <th></th>\n",
       "      <th></th>\n",
       "    </tr>\n",
       "  </thead>\n",
       "  <tbody>\n",
       "    <tr>\n",
       "      <th>95</th>\n",
       "      <td>2.571429</td>\n",
       "      <td>14</td>\n",
       "    </tr>\n",
       "    <tr>\n",
       "      <th>204</th>\n",
       "      <td>2.571429</td>\n",
       "      <td>14</td>\n",
       "    </tr>\n",
       "    <tr>\n",
       "      <th>92</th>\n",
       "      <td>2.526316</td>\n",
       "      <td>19</td>\n",
       "    </tr>\n",
       "    <tr>\n",
       "      <th>82</th>\n",
       "      <td>2.526316</td>\n",
       "      <td>19</td>\n",
       "    </tr>\n",
       "    <tr>\n",
       "      <th>106</th>\n",
       "      <td>2.500000</td>\n",
       "      <td>24</td>\n",
       "    </tr>\n",
       "    <tr>\n",
       "      <th>...</th>\n",
       "      <td>...</td>\n",
       "      <td>...</td>\n",
       "    </tr>\n",
       "    <tr>\n",
       "      <th>185</th>\n",
       "      <td>1.000000</td>\n",
       "      <td>20</td>\n",
       "    </tr>\n",
       "    <tr>\n",
       "      <th>237</th>\n",
       "      <td>1.000000</td>\n",
       "      <td>16</td>\n",
       "    </tr>\n",
       "    <tr>\n",
       "      <th>350</th>\n",
       "      <td>0.923077</td>\n",
       "      <td>13</td>\n",
       "    </tr>\n",
       "    <tr>\n",
       "      <th>52</th>\n",
       "      <td>0.857143</td>\n",
       "      <td>14</td>\n",
       "    </tr>\n",
       "    <tr>\n",
       "      <th>150</th>\n",
       "      <td>0.750000</td>\n",
       "      <td>16</td>\n",
       "    </tr>\n",
       "  </tbody>\n",
       "</table>\n",
       "<p>119 rows × 2 columns</p>\n",
       "</div>"
      ],
      "text/plain": [
       "             mean  count\n",
       "actions                 \n",
       "95       2.571429     14\n",
       "204      2.571429     14\n",
       "92       2.526316     19\n",
       "82       2.526316     19\n",
       "106      2.500000     24\n",
       "...           ...    ...\n",
       "185      1.000000     20\n",
       "237      1.000000     16\n",
       "350      0.923077     13\n",
       "52       0.857143     14\n",
       "150      0.750000     16\n",
       "\n",
       "[119 rows x 2 columns]"
      ]
     },
     "execution_count": 13,
     "metadata": {},
     "output_type": "execute_result"
    }
   ],
   "source": [
    "actionsbyrew = df_exp.groupby(\"actions\").rewards.agg([\"mean\",\"count\"])\n",
    "actionsbyrew = actionsbyrew[((actionsbyrew[\"count\"]>12))]\n",
    "actionsbyrew.sort_values(\"mean\",ascending=False)"
   ]
  },
  {
   "cell_type": "code",
   "execution_count": 14,
   "metadata": {},
   "outputs": [
    {
     "data": {
      "text/plain": [
       "Text(0.5, 1.0, 'histograma de medias de rewards por acción para acciones con más de 12 ocurrencias')"
      ]
     },
     "execution_count": 14,
     "metadata": {},
     "output_type": "execute_result"
    },
    {
     "data": {
      "image/png": "[encoded data removed]",
      "text/plain": [
       "<Figure size 640x480 with 1 Axes>"
      ]
     },
     "metadata": {},
     "output_type": "display_data"
    }
   ],
   "source": [
    "actionsbyrew[\"mean\"].plot(kind=\"hist\",bins=20)\n",
    "plt.title(\"histograma de medias de rewards por acción para acciones con más de 12 ocurrencias\")"
   ]
  },
  {
   "cell_type": "markdown",
   "metadata": {},
   "source": [
    "Veamos ahora si el reward suele ser cero para una determinada acción."
   ]
  },
  {
   "cell_type": "code",
   "execution_count": 15,
   "metadata": {},
   "outputs": [
    {
     "data": {
      "text/plain": [
       "Text(0.5, 1.0, 'Porcentaje de rewards nulos por acción')"
      ]
     },
     "execution_count": 15,
     "metadata": {},
     "output_type": "execute_result"
    },
    {
     "data": {
      "image/png": "[encoded data removed]",
      "text/plain": [
       "<Figure size 640x480 with 1 Axes>"
      ]
     },
     "metadata": {},
     "output_type": "display_data"
    }
   ],
   "source": [
    "df_exp.groupby(\"actions\").rewards.agg(lambda x: sum(x==0)/len(x)).plot(kind=\"hist\")\n",
    "plt.title(\"Porcentaje de rewards nulos por acción\")"
   ]
  },
  {
   "cell_type": "markdown",
   "metadata": {},
   "source": [
    "Vemos aquí que cada acción suele tener alrededor de un 50% de rewards nulos y el otro positivos mayores que cero."
   ]
  },
  {
   "cell_type": "markdown",
   "metadata": {},
   "source": []
  },
  {
   "cell_type": "markdown",
   "metadata": {},
   "source": [
    "## BC Trainer"
   ]
  },
  {
   "cell_type": "markdown",
   "metadata": {},
   "source": [
    "A continuación configuramos un nuevo trainer de RLlib offline a partir del Config que nos proporciona la librería."
   ]
  },
  {
   "cell_type": "code",
   "execution_count": 16,
   "metadata": {},
   "outputs": [
    {
     "name": "stderr",
     "output_type": "stream",
     "text": [
      "2022-09-07 19:14:29,991\tWARNING deprecation.py:47 -- DeprecationWarning: `config['multiagent']['replay_mode']` has been deprecated. config['replay_buffer_config']['replay_mode'] This will raise an error in the future!\n",
      "C:\\Users\\Paul\\AppData\\Roaming\\Python\\Python39\\site-packages\\ray\\_private\\ray_option_utils.py:266: DeprecationWarning: Setting 'object_store_memory' for actors is deprecated since it doesn't actually reserve the required object store memory. Use object spilling that's enabled by default (https://docs.ray.io/en/releases-2.0.0/ray-core/objects/object-spilling.html) instead to bypass the object store memory size limitation.\n",
      "  warnings.warn(\n",
      "2022-09-07 19:14:33,055\tINFO worker.py:1509 -- Started a local Ray instance. View the dashboard at \u001b[1m\u001b[32m127.0.0.1:8265 \u001b[39m\u001b[22m\n",
      "2022-09-07 19:14:35,597\tWARNING deprecation.py:47 -- DeprecationWarning: `simple_optimizer` has been deprecated. This will raise an error in the future!\n",
      "2022-09-07 19:14:35,598\tWARNING deprecation.py:47 -- DeprecationWarning: `config['multiagent']['replay_mode']` has been deprecated. config['replay_buffer_config']['replay_mode'] This will raise an error in the future!\n",
      "\u001b[2m\u001b[36m(pid=22040)\u001b[0m C:\\Users\\Paul\\AppData\\Roaming\\Python\\Python39\\site-packages\\flatbuffers\\compat.py:19: DeprecationWarning: the imp module is deprecated in favour of importlib; see the module's documentation for alternative uses\n",
      "\u001b[2m\u001b[36m(pid=22040)\u001b[0m   import imp\n",
      "\u001b[2m\u001b[36m(pid=22040)\u001b[0m C:\\Users\\Paul\\AppData\\Roaming\\Python\\Python39\\site-packages\\keras\\utils\\image_utils.py:36: DeprecationWarning: NEAREST is deprecated and will be removed in Pillow 10 (2023-07-01). Use Resampling.NEAREST or Dither.NONE instead.\n",
      "\u001b[2m\u001b[36m(pid=22040)\u001b[0m   'nearest': pil_image.NEAREST,\n",
      "\u001b[2m\u001b[36m(pid=22040)\u001b[0m C:\\Users\\Paul\\AppData\\Roaming\\Python\\Python39\\site-packages\\keras\\utils\\image_utils.py:37: DeprecationWarning: BILINEAR is deprecated and will be removed in Pillow 10 (2023-07-01). Use Resampling.BILINEAR instead.\n",
      "\u001b[2m\u001b[36m(pid=22040)\u001b[0m   'bilinear': pil_image.BILINEAR,\n",
      "\u001b[2m\u001b[36m(pid=22040)\u001b[0m C:\\Users\\Paul\\AppData\\Roaming\\Python\\Python39\\site-packages\\keras\\utils\\image_utils.py:38: DeprecationWarning: BICUBIC is deprecated and will be removed in Pillow 10 (2023-07-01). Use Resampling.BICUBIC instead.\n",
      "\u001b[2m\u001b[36m(pid=22040)\u001b[0m   'bicubic': pil_image.BICUBIC,\n",
      "\u001b[2m\u001b[36m(pid=22040)\u001b[0m C:\\Users\\Paul\\AppData\\Roaming\\Python\\Python39\\site-packages\\keras\\utils\\image_utils.py:39: DeprecationWarning: HAMMING is deprecated and will be removed in Pillow 10 (2023-07-01). Use Resampling.HAMMING instead.\n",
      "\u001b[2m\u001b[36m(pid=22040)\u001b[0m   'hamming': pil_image.HAMMING,\n",
      "\u001b[2m\u001b[36m(pid=22040)\u001b[0m C:\\Users\\Paul\\AppData\\Roaming\\Python\\Python39\\site-packages\\keras\\utils\\image_utils.py:40: DeprecationWarning: BOX is deprecated and will be removed in Pillow 10 (2023-07-01). Use Resampling.BOX instead.\n",
      "\u001b[2m\u001b[36m(pid=22040)\u001b[0m   'box': pil_image.BOX,\n",
      "\u001b[2m\u001b[36m(pid=22040)\u001b[0m C:\\Users\\Paul\\AppData\\Roaming\\Python\\Python39\\site-packages\\keras\\utils\\image_utils.py:41: DeprecationWarning: LANCZOS is deprecated and will be removed in Pillow 10 (2023-07-01). Use Resampling.LANCZOS instead.\n",
      "\u001b[2m\u001b[36m(pid=22040)\u001b[0m   'lanczos': pil_image.LANCZOS,\n",
      "\u001b[2m\u001b[36m(pid=22040)\u001b[0m c:\\Users\\Paul\\miniconda3\\envs\\tfmenv\\lib\\site-packages\\tensorflow_probability\\python\\__init__.py:57: DeprecationWarning: distutils Version classes are deprecated. Use packaging.version instead.\n",
      "\u001b[2m\u001b[36m(pid=22040)\u001b[0m   if (distutils.version.LooseVersion(tf.__version__) <\n",
      "2022-09-07 19:14:40,744\tINFO trainable.py:160 -- Trainable.setup took 10.755 seconds. If your trainable is slow to initialize, consider setting reuse_actors=True to reduce actor creation overheads.\n"
     ]
    }
   ],
   "source": [
    "MODEL_NAME = \"BCTrainer\"\n",
    "config = (\n",
    "    BCConfig()\n",
    "    .environment(env=None)\n",
    "    .framework(\"torch\")\n",
    "    .offline_data(input_=[json_output_file])\n",
    "    .evaluation(\n",
    "        evaluation_interval=1,\n",
    "        evaluation_duration=10,\n",
    "        evaluation_num_workers=1,\n",
    "        evaluation_duration_unit=\"episodes\",\n",
    "        evaluation_config={\"input\": [json_output_file]},\n",
    "        off_policy_estimation_methods={\n",
    "            \"is\": {\"type\": ImportanceSampling},\n",
    "            \"wis\": {\"type\": WeightedImportanceSampling},\n",
    "           \n",
    "            },\n",
    "        #},\n",
    "    )\n",
    ")\n",
    "# hemos puesto en env a None por lo que tenemos que darle esta info al modelo offline\n",
    "config.observation_space = offline_rl_env.observation_space \n",
    "config.action_space = offline_rl_env.action_space\n",
    "bc_trainer = config.build()"
   ]
  },
  {
   "cell_type": "markdown",
   "metadata": {},
   "source": [
    "En este caso recordemos que no vamos a tener rewards, debido a que no tenemos un entorno que devuelve estos valores en función de las interacciones desarrolladas por el agente. Por ello es necesario utilizar métricas diferentes."
   ]
  },
  {
   "cell_type": "code",
   "execution_count": 17,
   "metadata": {},
   "outputs": [
    {
     "name": "stderr",
     "output_type": "stream",
     "text": [
      "2022-09-07 19:14:42,103\tWARNING multi_agent_prioritized_replay_buffer.py:220 -- Adding batches with column `weights` to this buffer while providing weights as a call argument to the add method results in the column being overwritten.\n",
      "2022-09-07 19:14:42,154\tWARNING deprecation.py:47 -- DeprecationWarning: `concat_samples` has been deprecated. Use `concat_samples() from rllib.policy.sample_batch` instead. This will raise an error in the future!\n"
     ]
    },
    {
     "name": "stdout",
     "output_type": "stream",
     "text": [
      "2000 steps trained; loss = 5.991583347320557;  reward = nan\n",
      "4000 steps trained; loss = 5.990262031555176;  reward = nan\n",
      "6000 steps trained; loss = 5.9885783195495605;  reward = nan\n",
      "8000 steps trained; loss = 5.987313747406006;  reward = nan\n",
      "10000 steps trained; loss = 5.985818862915039;  reward = nan\n",
      "12000 steps trained; loss = 5.985288143157959;  reward = nan\n",
      "14000 steps trained; loss = 5.982832908630371;  reward = nan\n",
      "16000 steps trained; loss = 5.981958866119385;  reward = nan\n",
      "18000 steps trained; loss = 5.980355262756348;  reward = nan\n",
      "20000 steps trained; loss = 5.9790849685668945;  reward = nan\n"
     ]
    }
   ],
   "source": [
    "for _ in range(10):\n",
    "    results = bc_trainer.train()\n",
    "    print(f\"{results['info']['num_agent_steps_trained']} steps trained; loss = {results['info']['learner']['default_policy']['learner_stats']['total_loss']};  reward = {results['episode_reward_mean']}\")"
   ]
  },
  {
   "cell_type": "markdown",
   "metadata": {},
   "source": [
    "## Estimadores Offpolicy"
   ]
  },
  {
   "cell_type": "code",
   "execution_count": 18,
   "metadata": {},
   "outputs": [
    {
     "data": {
      "text/plain": [
       "dict_keys(['evaluation', 'custom_metrics', 'episode_media', 'num_recreated_workers', 'info', 'sampler_results', 'episode_reward_max', 'episode_reward_min', 'episode_reward_mean', 'episode_len_mean', 'episodes_this_iter', 'policy_reward_min', 'policy_reward_max', 'policy_reward_mean', 'hist_stats', 'sampler_perf', 'num_faulty_episodes', 'num_healthy_workers', 'num_agent_steps_sampled', 'num_agent_steps_trained', 'num_env_steps_sampled', 'num_env_steps_trained', 'num_env_steps_sampled_this_iter', 'num_env_steps_trained_this_iter', 'timesteps_total', 'num_steps_trained_this_iter', 'agent_timesteps_total', 'timers', 'counters', 'done', 'episodes_total', 'training_iteration', 'trial_id', 'experiment_id', 'date', 'timestamp', 'time_this_iter_s', 'time_total_s', 'pid', 'hostname', 'node_ip', 'config', 'time_since_restore', 'timesteps_since_restore', 'iterations_since_restore', 'warmup_time', 'perf'])"
      ]
     },
     "execution_count": 18,
     "metadata": {},
     "output_type": "execute_result"
    }
   ],
   "source": [
    "results.keys()"
   ]
  },
  {
   "cell_type": "code",
   "execution_count": 19,
   "metadata": {},
   "outputs": [
    {
     "name": "stdout",
     "output_type": "stream",
     "text": [
      "IS off-policy estimation: {'v_behavior': 102.3383017289212, 'v_target': 44.14496476188912, 'v_gain': 0.42704408333225574, 'v_behavior_std': 13.475497117477964, 'v_target_std': 96.4118103744495, 'v_gain_std': 0.9200240622790525}\n",
      "WIS off-policy estimation: {'v_behavior': 102.3383017289212, 'v_target': 109.53257933587192, 'v_gain': 1.0553813170580824, 'v_behavior_std': 13.475497117477964, 'v_target_std': 273.10457277231893, 'v_gain_std': 2.5804536238792055}\n"
     ]
    }
   ],
   "source": [
    "ope_results = results[\"evaluation\"]['off_policy_estimator']\n",
    "print(f\"IS off-policy estimation: {ope_results['is']}\")\n",
    "print(f\"WIS off-policy estimation: {ope_results['wis']}\")"
   ]
  },
  {
   "cell_type": "code",
   "execution_count": 20,
   "metadata": {},
   "outputs": [
    {
     "data": {
      "text/plain": [
       "{'is': {'v_behavior': 102.3383017289212,\n",
       "  'v_target': 44.14496476188912,\n",
       "  'v_gain': 0.42704408333225574,\n",
       "  'v_behavior_std': 13.475497117477964,\n",
       "  'v_target_std': 96.4118103744495,\n",
       "  'v_gain_std': 0.9200240622790525},\n",
       " 'wis': {'v_behavior': 102.3383017289212,\n",
       "  'v_target': 109.53257933587192,\n",
       "  'v_gain': 1.0553813170580824,\n",
       "  'v_behavior_std': 13.475497117477964,\n",
       "  'v_target_std': 273.10457277231893,\n",
       "  'v_gain_std': 2.5804536238792055}}"
      ]
     },
     "execution_count": 20,
     "metadata": {},
     "output_type": "execute_result"
    }
   ],
   "source": [
    "ope_results"
   ]
  },
  {
   "cell_type": "markdown",
   "metadata": {},
   "source": [
    "Ejecución del modelo"
   ]
  },
  {
   "cell_type": "code",
   "execution_count": 21,
   "metadata": {},
   "outputs": [
    {
     "name": "stderr",
     "output_type": "stream",
     "text": [
      "100%|██████████| 100/100 [17:46<00:00, 10.67s/it]\n"
     ]
    }
   ],
   "source": [
    "NUM_EPISODES = 100\n",
    "results = run_simulation(bc_trainer,num_episodes = NUM_EPISODES, func = run_rlmodel_episode_offline)"
   ]
  },
  {
   "cell_type": "code",
   "execution_count": 22,
   "metadata": {},
   "outputs": [],
   "source": [
    "def get_offline_metrics(results,model=None):\n",
    "    iss,wiss, losses=[], [], []\n",
    "    for result in results:\n",
    "        if type(result) == list:\n",
    "            \n",
    "            for r in result:\n",
    "                losses.append(r[\"loss\"])\n",
    "                iss.append(r[\"is\"])\n",
    "                wiss.append(r[\"wis\"])\n",
    "    is_df = pd.DataFrame(iss).rename_axis('num_episode').assign(offline_method=\"IS\")\n",
    "    wis_df = pd.DataFrame(wiss).rename_axis('num_episode').assign(offline_method=\"WIS\")\n",
    "    loss_df = pd.Series(losses).rename(\"loss\").to_frame().rename_axis('num_episode').assign(offline_method=\"loss\") \n",
    "    print(wis_df)\n",
    "\n",
    "    return pd.concat([is_df, wis_df, loss_df],axis=0).assign(model=model)\n"
   ]
  },
  {
   "cell_type": "code",
   "execution_count": 23,
   "metadata": {},
   "outputs": [
    {
     "name": "stdout",
     "output_type": "stream",
     "text": [
      "             v_behavior    v_target    v_gain  v_behavior_std  v_target_std  \\\n",
      "num_episode                                                                   \n",
      "0            102.619356  109.860911  1.056171       13.247511    277.168004   \n",
      "1            102.522018  111.636285  1.073791       13.163751    280.753526   \n",
      "2            102.443820  113.116084  1.091627       12.887895    284.772248   \n",
      "3            102.546519  105.273605  1.012237       12.869636    265.886995   \n",
      "4            102.667207  116.807887  1.125806       13.466870    293.475629   \n",
      "...                 ...         ...       ...             ...           ...   \n",
      "95           102.244301  193.563980  1.889462       13.787538    334.571092   \n",
      "96           102.539844  196.712414  1.923835       13.427833    346.751466   \n",
      "97           102.597601  199.029239  1.947145       12.676190    348.877395   \n",
      "98           102.383575  198.605932  1.954701       12.914697    345.509266   \n",
      "99           102.360530  193.158812  1.890828       13.814695    344.542637   \n",
      "\n",
      "             v_gain_std offline_method  \n",
      "num_episode                             \n",
      "0              2.618895            WIS  \n",
      "1              2.654551            WIS  \n",
      "2              2.692900            WIS  \n",
      "3              2.502543            WIS  \n",
      "4              2.775977            WIS  \n",
      "...                 ...            ...  \n",
      "95             3.233310            WIS  \n",
      "96             3.370754            WIS  \n",
      "97             3.399216            WIS  \n",
      "98             3.381898            WIS  \n",
      "99             3.361525            WIS  \n",
      "\n",
      "[100 rows x 7 columns]\n"
     ]
    }
   ],
   "source": [
    "offline_metrics = get_offline_metrics(results,model = MODEL_NAME)"
   ]
  },
  {
   "cell_type": "code",
   "execution_count": 24,
   "metadata": {},
   "outputs": [
    {
     "data": {
      "text/html": [
       "<div>\n",
       "<style scoped>\n",
       "    .dataframe tbody tr th:only-of-type {\n",
       "        vertical-align: middle;\n",
       "    }\n",
       "\n",
       "    .dataframe tbody tr th {\n",
       "        vertical-align: top;\n",
       "    }\n",
       "\n",
       "    .dataframe thead th {\n",
       "        text-align: right;\n",
       "    }\n",
       "</style>\n",
       "<table border=\"1\" class=\"dataframe\">\n",
       "  <thead>\n",
       "    <tr style=\"text-align: right;\">\n",
       "      <th></th>\n",
       "      <th>v_behavior</th>\n",
       "      <th>v_target</th>\n",
       "      <th>v_gain</th>\n",
       "      <th>v_behavior_std</th>\n",
       "      <th>v_target_std</th>\n",
       "      <th>v_gain_std</th>\n",
       "      <th>offline_method</th>\n",
       "      <th>loss</th>\n",
       "      <th>model</th>\n",
       "    </tr>\n",
       "    <tr>\n",
       "      <th>num_episode</th>\n",
       "      <th></th>\n",
       "      <th></th>\n",
       "      <th></th>\n",
       "      <th></th>\n",
       "      <th></th>\n",
       "      <th></th>\n",
       "      <th></th>\n",
       "      <th></th>\n",
       "      <th></th>\n",
       "    </tr>\n",
       "  </thead>\n",
       "  <tbody>\n",
       "    <tr>\n",
       "      <th>0</th>\n",
       "      <td>102.619356</td>\n",
       "      <td>44.589592</td>\n",
       "      <td>0.430231</td>\n",
       "      <td>13.247511</td>\n",
       "      <td>99.109281</td>\n",
       "      <td>0.945160</td>\n",
       "      <td>IS</td>\n",
       "      <td>NaN</td>\n",
       "      <td>BCTrainer</td>\n",
       "    </tr>\n",
       "    <tr>\n",
       "      <th>1</th>\n",
       "      <td>102.522018</td>\n",
       "      <td>45.576417</td>\n",
       "      <td>0.439783</td>\n",
       "      <td>13.163751</td>\n",
       "      <td>101.885906</td>\n",
       "      <td>0.972123</td>\n",
       "      <td>IS</td>\n",
       "      <td>NaN</td>\n",
       "      <td>BCTrainer</td>\n",
       "    </tr>\n",
       "    <tr>\n",
       "      <th>2</th>\n",
       "      <td>102.443820</td>\n",
       "      <td>46.207327</td>\n",
       "      <td>0.447364</td>\n",
       "      <td>12.887895</td>\n",
       "      <td>104.715011</td>\n",
       "      <td>0.999050</td>\n",
       "      <td>IS</td>\n",
       "      <td>NaN</td>\n",
       "      <td>BCTrainer</td>\n",
       "    </tr>\n",
       "    <tr>\n",
       "      <th>3</th>\n",
       "      <td>102.546519</td>\n",
       "      <td>43.836962</td>\n",
       "      <td>0.423185</td>\n",
       "      <td>12.869636</td>\n",
       "      <td>98.521348</td>\n",
       "      <td>0.936920</td>\n",
       "      <td>IS</td>\n",
       "      <td>NaN</td>\n",
       "      <td>BCTrainer</td>\n",
       "    </tr>\n",
       "    <tr>\n",
       "      <th>4</th>\n",
       "      <td>102.667207</td>\n",
       "      <td>48.482176</td>\n",
       "      <td>0.468552</td>\n",
       "      <td>13.466870</td>\n",
       "      <td>110.682821</td>\n",
       "      <td>1.055533</td>\n",
       "      <td>IS</td>\n",
       "      <td>NaN</td>\n",
       "      <td>BCTrainer</td>\n",
       "    </tr>\n",
       "    <tr>\n",
       "      <th>...</th>\n",
       "      <td>...</td>\n",
       "      <td>...</td>\n",
       "      <td>...</td>\n",
       "      <td>...</td>\n",
       "      <td>...</td>\n",
       "      <td>...</td>\n",
       "      <td>...</td>\n",
       "      <td>...</td>\n",
       "      <td>...</td>\n",
       "    </tr>\n",
       "    <tr>\n",
       "      <th>95</th>\n",
       "      <td>NaN</td>\n",
       "      <td>NaN</td>\n",
       "      <td>NaN</td>\n",
       "      <td>NaN</td>\n",
       "      <td>NaN</td>\n",
       "      <td>NaN</td>\n",
       "      <td>loss</td>\n",
       "      <td>5.887479</td>\n",
       "      <td>BCTrainer</td>\n",
       "    </tr>\n",
       "    <tr>\n",
       "      <th>96</th>\n",
       "      <td>NaN</td>\n",
       "      <td>NaN</td>\n",
       "      <td>NaN</td>\n",
       "      <td>NaN</td>\n",
       "      <td>NaN</td>\n",
       "      <td>NaN</td>\n",
       "      <td>loss</td>\n",
       "      <td>5.887630</td>\n",
       "      <td>BCTrainer</td>\n",
       "    </tr>\n",
       "    <tr>\n",
       "      <th>97</th>\n",
       "      <td>NaN</td>\n",
       "      <td>NaN</td>\n",
       "      <td>NaN</td>\n",
       "      <td>NaN</td>\n",
       "      <td>NaN</td>\n",
       "      <td>NaN</td>\n",
       "      <td>loss</td>\n",
       "      <td>5.882698</td>\n",
       "      <td>BCTrainer</td>\n",
       "    </tr>\n",
       "    <tr>\n",
       "      <th>98</th>\n",
       "      <td>NaN</td>\n",
       "      <td>NaN</td>\n",
       "      <td>NaN</td>\n",
       "      <td>NaN</td>\n",
       "      <td>NaN</td>\n",
       "      <td>NaN</td>\n",
       "      <td>loss</td>\n",
       "      <td>5.883368</td>\n",
       "      <td>BCTrainer</td>\n",
       "    </tr>\n",
       "    <tr>\n",
       "      <th>99</th>\n",
       "      <td>NaN</td>\n",
       "      <td>NaN</td>\n",
       "      <td>NaN</td>\n",
       "      <td>NaN</td>\n",
       "      <td>NaN</td>\n",
       "      <td>NaN</td>\n",
       "      <td>loss</td>\n",
       "      <td>5.882895</td>\n",
       "      <td>BCTrainer</td>\n",
       "    </tr>\n",
       "  </tbody>\n",
       "</table>\n",
       "<p>300 rows × 9 columns</p>\n",
       "</div>"
      ],
      "text/plain": [
       "             v_behavior   v_target    v_gain  v_behavior_std  v_target_std  \\\n",
       "num_episode                                                                  \n",
       "0            102.619356  44.589592  0.430231       13.247511     99.109281   \n",
       "1            102.522018  45.576417  0.439783       13.163751    101.885906   \n",
       "2            102.443820  46.207327  0.447364       12.887895    104.715011   \n",
       "3            102.546519  43.836962  0.423185       12.869636     98.521348   \n",
       "4            102.667207  48.482176  0.468552       13.466870    110.682821   \n",
       "...                 ...        ...       ...             ...           ...   \n",
       "95                  NaN        NaN       NaN             NaN           NaN   \n",
       "96                  NaN        NaN       NaN             NaN           NaN   \n",
       "97                  NaN        NaN       NaN             NaN           NaN   \n",
       "98                  NaN        NaN       NaN             NaN           NaN   \n",
       "99                  NaN        NaN       NaN             NaN           NaN   \n",
       "\n",
       "             v_gain_std offline_method      loss      model  \n",
       "num_episode                                                  \n",
       "0              0.945160             IS       NaN  BCTrainer  \n",
       "1              0.972123             IS       NaN  BCTrainer  \n",
       "2              0.999050             IS       NaN  BCTrainer  \n",
       "3              0.936920             IS       NaN  BCTrainer  \n",
       "4              1.055533             IS       NaN  BCTrainer  \n",
       "...                 ...            ...       ...        ...  \n",
       "95                  NaN           loss  5.887479  BCTrainer  \n",
       "96                  NaN           loss  5.887630  BCTrainer  \n",
       "97                  NaN           loss  5.882698  BCTrainer  \n",
       "98                  NaN           loss  5.883368  BCTrainer  \n",
       "99                  NaN           loss  5.882895  BCTrainer  \n",
       "\n",
       "[300 rows x 9 columns]"
      ]
     },
     "execution_count": 24,
     "metadata": {},
     "output_type": "execute_result"
    }
   ],
   "source": [
    "offline_metrics"
   ]
  },
  {
   "cell_type": "markdown",
   "metadata": {},
   "source": [
    "Persistencia del modelo (también en ray results)"
   ]
  },
  {
   "cell_type": "code",
   "execution_count": 25,
   "metadata": {},
   "outputs": [
    {
     "name": "stdout",
     "output_type": "stream",
     "text": [
      "Trainer en iteración 110 guardado en '../models/offline_rl/interest_evolution/BCTrainer\\checkpoint_000110'.\n"
     ]
    }
   ],
   "source": [
    "checkpoint_dir = f\"../models/offline_rl/interest_evolution/{MODEL_NAME}\"\n",
    "# We use the `Trainer.save()` method to create a checkpoint.\n",
    "checkpoint_file = bc_trainer.save(checkpoint_dir)\n",
    "print(f\"Trainer en iteración {bc_trainer.iteration} guardado en '{checkpoint_file}'.\")\n",
    "offline_metrics.to_csv(os.path.join(checkpoint_dir,\"offline_metrics.csv\"))"
   ]
  },
  {
   "cell_type": "markdown",
   "metadata": {},
   "source": [
    "Probamos a restaurar el modelo"
   ]
  },
  {
   "cell_type": "code",
   "execution_count": 26,
   "metadata": {},
   "outputs": [
    {
     "name": "stderr",
     "output_type": "stream",
     "text": [
      "2022-09-07 19:34:17,531\tWARNING deprecation.py:47 -- DeprecationWarning: `config['multiagent']['replay_mode']` has been deprecated. config['replay_buffer_config']['replay_mode'] This will raise an error in the future!\n",
      "C:\\Users\\Paul\\AppData\\Roaming\\Python\\Python39\\site-packages\\ray\\_private\\ray_option_utils.py:266: DeprecationWarning: Setting 'object_store_memory' for actors is deprecated since it doesn't actually reserve the required object store memory. Use object spilling that's enabled by default (https://docs.ray.io/en/releases-2.0.0/ray-core/objects/object-spilling.html) instead to bypass the object store memory size limitation.\n",
      "  warnings.warn(\n",
      "2022-09-07 19:34:17,550\tWARNING deprecation.py:47 -- DeprecationWarning: `simple_optimizer` has been deprecated. This will raise an error in the future!\n",
      "2022-09-07 19:34:17,551\tWARNING deprecation.py:47 -- DeprecationWarning: `config['multiagent']['replay_mode']` has been deprecated. config['replay_buffer_config']['replay_mode'] This will raise an error in the future!\n",
      "\u001b[2m\u001b[36m(pid=13248)\u001b[0m C:\\Users\\Paul\\AppData\\Roaming\\Python\\Python39\\site-packages\\flatbuffers\\compat.py:19: DeprecationWarning: the imp module is deprecated in favour of importlib; see the module's documentation for alternative uses\n",
      "\u001b[2m\u001b[36m(pid=13248)\u001b[0m   import imp\n",
      "\u001b[2m\u001b[36m(pid=13248)\u001b[0m C:\\Users\\Paul\\AppData\\Roaming\\Python\\Python39\\site-packages\\keras\\utils\\image_utils.py:36: DeprecationWarning: NEAREST is deprecated and will be removed in Pillow 10 (2023-07-01). Use Resampling.NEAREST or Dither.NONE instead.\n",
      "\u001b[2m\u001b[36m(pid=13248)\u001b[0m   'nearest': pil_image.NEAREST,\n",
      "\u001b[2m\u001b[36m(pid=13248)\u001b[0m C:\\Users\\Paul\\AppData\\Roaming\\Python\\Python39\\site-packages\\keras\\utils\\image_utils.py:37: DeprecationWarning: BILINEAR is deprecated and will be removed in Pillow 10 (2023-07-01). Use Resampling.BILINEAR instead.\n",
      "\u001b[2m\u001b[36m(pid=13248)\u001b[0m   'bilinear': pil_image.BILINEAR,\n",
      "\u001b[2m\u001b[36m(pid=13248)\u001b[0m C:\\Users\\Paul\\AppData\\Roaming\\Python\\Python39\\site-packages\\keras\\utils\\image_utils.py:38: DeprecationWarning: BICUBIC is deprecated and will be removed in Pillow 10 (2023-07-01). Use Resampling.BICUBIC instead.\n",
      "\u001b[2m\u001b[36m(pid=13248)\u001b[0m   'bicubic': pil_image.BICUBIC,\n",
      "\u001b[2m\u001b[36m(pid=13248)\u001b[0m C:\\Users\\Paul\\AppData\\Roaming\\Python\\Python39\\site-packages\\keras\\utils\\image_utils.py:39: DeprecationWarning: HAMMING is deprecated and will be removed in Pillow 10 (2023-07-01). Use Resampling.HAMMING instead.\n",
      "\u001b[2m\u001b[36m(pid=13248)\u001b[0m   'hamming': pil_image.HAMMING,\n",
      "\u001b[2m\u001b[36m(pid=13248)\u001b[0m C:\\Users\\Paul\\AppData\\Roaming\\Python\\Python39\\site-packages\\keras\\utils\\image_utils.py:40: DeprecationWarning: BOX is deprecated and will be removed in Pillow 10 (2023-07-01). Use Resampling.BOX instead.\n",
      "\u001b[2m\u001b[36m(pid=13248)\u001b[0m   'box': pil_image.BOX,\n",
      "\u001b[2m\u001b[36m(pid=13248)\u001b[0m C:\\Users\\Paul\\AppData\\Roaming\\Python\\Python39\\site-packages\\keras\\utils\\image_utils.py:41: DeprecationWarning: LANCZOS is deprecated and will be removed in Pillow 10 (2023-07-01). Use Resampling.LANCZOS instead.\n",
      "\u001b[2m\u001b[36m(pid=13248)\u001b[0m   'lanczos': pil_image.LANCZOS,\n",
      "\u001b[2m\u001b[36m(pid=13248)\u001b[0m c:\\Users\\Paul\\miniconda3\\envs\\tfmenv\\lib\\site-packages\\tensorflow_probability\\python\\__init__.py:57: DeprecationWarning: distutils Version classes are deprecated. Use packaging.version instead.\n",
      "\u001b[2m\u001b[36m(pid=13248)\u001b[0m   if (distutils.version.LooseVersion(tf.__version__) <\n",
      "2022-09-07 19:34:22,760\tINFO trainable.py:668 -- Restored on 127.0.0.1 from checkpoint: ..\\models\\offline_rl\\interest_evolution\\BCTrainer\\checkpoint_000110\n",
      "2022-09-07 19:34:22,761\tINFO trainable.py:677 -- Current state after restoring: {'_iteration': 110, '_timesteps_total': None, '_time_total': 1170.0774121284485, '_episodes_total': 0}\n"
     ]
    },
    {
     "name": "stdout",
     "output_type": "stream",
     "text": [
      "Before restoring: Trainer is at iteration=0\n",
      "After restoring: Trainer is at iteration=110\n"
     ]
    }
   ],
   "source": [
    "new_bc_trainer = config.build()\n",
    "# Pretend, we wanted to pick up training from a previous run:\n",
    "# Restoring the trained state into the `new_trainer` object.\n",
    "print(f\"Before restoring: Trainer is at iteration={new_bc_trainer.iteration}\")\n",
    "new_bc_trainer.restore(checkpoint_file)\n",
    "print(f\"After restoring: Trainer is at iteration={new_bc_trainer.iteration}\")"
   ]
  },
  {
   "cell_type": "markdown",
   "metadata": {},
   "source": [
    "Marwil model"
   ]
  },
  {
   "cell_type": "markdown",
   "metadata": {},
   "source": [
    "A continuación ejecutaremos el modelo marwil y evaluaremos su performance"
   ]
  },
  {
   "cell_type": "code",
   "execution_count": 27,
   "metadata": {},
   "outputs": [
    {
     "name": "stderr",
     "output_type": "stream",
     "text": [
      "2022-09-07 19:34:23,123\tWARNING deprecation.py:47 -- DeprecationWarning: `config['multiagent']['replay_mode']` has been deprecated. config['replay_buffer_config']['replay_mode'] This will raise an error in the future!\n",
      "C:\\Users\\Paul\\AppData\\Roaming\\Python\\Python39\\site-packages\\ray\\_private\\ray_option_utils.py:266: DeprecationWarning: Setting 'object_store_memory' for actors is deprecated since it doesn't actually reserve the required object store memory. Use object spilling that's enabled by default (https://docs.ray.io/en/releases-2.0.0/ray-core/objects/object-spilling.html) instead to bypass the object store memory size limitation.\n",
      "  warnings.warn(\n",
      "2022-09-07 19:34:23,824\tWARNING deprecation.py:47 -- DeprecationWarning: `simple_optimizer` has been deprecated. This will raise an error in the future!\n",
      "2022-09-07 19:34:23,825\tWARNING deprecation.py:47 -- DeprecationWarning: `config['multiagent']['replay_mode']` has been deprecated. config['replay_buffer_config']['replay_mode'] This will raise an error in the future!\n",
      "\u001b[2m\u001b[36m(pid=20612)\u001b[0m C:\\Users\\Paul\\AppData\\Roaming\\Python\\Python39\\site-packages\\flatbuffers\\compat.py:19: DeprecationWarning: the imp module is deprecated in favour of importlib; see the module's documentation for alternative uses\n",
      "\u001b[2m\u001b[36m(pid=20612)\u001b[0m   import imp\n",
      "\u001b[2m\u001b[36m(pid=20612)\u001b[0m C:\\Users\\Paul\\AppData\\Roaming\\Python\\Python39\\site-packages\\keras\\utils\\image_utils.py:36: DeprecationWarning: NEAREST is deprecated and will be removed in Pillow 10 (2023-07-01). Use Resampling.NEAREST or Dither.NONE instead.\n",
      "\u001b[2m\u001b[36m(pid=20612)\u001b[0m   'nearest': pil_image.NEAREST,\n",
      "\u001b[2m\u001b[36m(pid=20612)\u001b[0m C:\\Users\\Paul\\AppData\\Roaming\\Python\\Python39\\site-packages\\keras\\utils\\image_utils.py:37: DeprecationWarning: BILINEAR is deprecated and will be removed in Pillow 10 (2023-07-01). Use Resampling.BILINEAR instead.\n",
      "\u001b[2m\u001b[36m(pid=20612)\u001b[0m   'bilinear': pil_image.BILINEAR,\n",
      "\u001b[2m\u001b[36m(pid=20612)\u001b[0m C:\\Users\\Paul\\AppData\\Roaming\\Python\\Python39\\site-packages\\keras\\utils\\image_utils.py:38: DeprecationWarning: BICUBIC is deprecated and will be removed in Pillow 10 (2023-07-01). Use Resampling.BICUBIC instead.\n",
      "\u001b[2m\u001b[36m(pid=20612)\u001b[0m   'bicubic': pil_image.BICUBIC,\n",
      "\u001b[2m\u001b[36m(pid=20612)\u001b[0m C:\\Users\\Paul\\AppData\\Roaming\\Python\\Python39\\site-packages\\keras\\utils\\image_utils.py:39: DeprecationWarning: HAMMING is deprecated and will be removed in Pillow 10 (2023-07-01). Use Resampling.HAMMING instead.\n",
      "\u001b[2m\u001b[36m(pid=20612)\u001b[0m   'hamming': pil_image.HAMMING,\n",
      "\u001b[2m\u001b[36m(pid=20612)\u001b[0m C:\\Users\\Paul\\AppData\\Roaming\\Python\\Python39\\site-packages\\keras\\utils\\image_utils.py:40: DeprecationWarning: BOX is deprecated and will be removed in Pillow 10 (2023-07-01). Use Resampling.BOX instead.\n",
      "\u001b[2m\u001b[36m(pid=20612)\u001b[0m   'box': pil_image.BOX,\n",
      "\u001b[2m\u001b[36m(pid=20612)\u001b[0m C:\\Users\\Paul\\AppData\\Roaming\\Python\\Python39\\site-packages\\keras\\utils\\image_utils.py:41: DeprecationWarning: LANCZOS is deprecated and will be removed in Pillow 10 (2023-07-01). Use Resampling.LANCZOS instead.\n",
      "\u001b[2m\u001b[36m(pid=20612)\u001b[0m   'lanczos': pil_image.LANCZOS,\n",
      "\u001b[2m\u001b[36m(pid=20612)\u001b[0m c:\\Users\\Paul\\miniconda3\\envs\\tfmenv\\lib\\site-packages\\tensorflow_probability\\python\\__init__.py:57: DeprecationWarning: distutils Version classes are deprecated. Use packaging.version instead.\n",
      "\u001b[2m\u001b[36m(pid=20612)\u001b[0m   if (distutils.version.LooseVersion(tf.__version__) <\n"
     ]
    }
   ],
   "source": [
    "MODEL_NAME = \"MARWILTrainer\"\n",
    "config_marwil = (\n",
    "    MARWILConfig()\n",
    "    .environment(env=None)\n",
    "    #.framework(\"torch\")\n",
    "    .offline_data(input_=[json_output_file])\n",
    "    .evaluation(\n",
    "        evaluation_interval=1,\n",
    "        evaluation_duration=10,\n",
    "        evaluation_num_workers=1,\n",
    "        evaluation_duration_unit=\"episodes\",\n",
    "        evaluation_config={\"input\": [json_output_file]},\n",
    "        off_policy_estimation_methods={\n",
    "            \"is\": {\"type\": ImportanceSampling},\n",
    "            \"wis\": {\"type\": WeightedImportanceSampling},\n",
    "           \n",
    "            },\n",
    "        #},\n",
    "    )\n",
    ")\n",
    "\n",
    "\n",
    "# hemos puesto en env a None por lo que tenemos que darle esta info al modelo offline\n",
    "config_marwil.observation_space = offline_rl_env.observation_space \n",
    "config_marwil.action_space = offline_rl_env.action_space\n",
    "config_marwil.lr = 0.000000001\n",
    "config_marwil.grad_clip = 10.0\n",
    "config_marwil.vf_coeff = 0.001\n",
    "marwil_trainer = config_marwil.build()"
   ]
  },
  {
   "cell_type": "code",
   "execution_count": 28,
   "metadata": {},
   "outputs": [
    {
     "name": "stderr",
     "output_type": "stream",
     "text": [
      "100%|██████████| 100/100 [24:16<00:00, 14.57s/it]\n"
     ]
    }
   ],
   "source": [
    "NUM_EPISODES = 100\n",
    "results = run_simulation(marwil_trainer,num_episodes = NUM_EPISODES, func = run_rlmodel_episode_offline)"
   ]
  },
  {
   "cell_type": "code",
   "execution_count": 29,
   "metadata": {},
   "outputs": [
    {
     "name": "stdout",
     "output_type": "stream",
     "text": [
      "             v_behavior   v_target    v_gain  v_behavior_std  v_target_std  \\\n",
      "num_episode                                                                  \n",
      "0            102.741476  87.611480  0.848336       12.591973    188.832891   \n",
      "1            102.055203  94.776584  0.917780       14.364122    223.417055   \n",
      "2            102.736824  97.465133  0.936759       12.692780    229.272610   \n",
      "3            102.338433  96.961223  0.933492       14.210411    230.219075   \n",
      "4            102.433120  97.673221  0.951203       13.647651    231.360971   \n",
      "...                 ...        ...       ...             ...           ...   \n",
      "95           102.714854  95.816764  0.927692       12.848477    231.668539   \n",
      "96           102.023797  95.687337  0.922185       14.835605    234.374319   \n",
      "97           102.390297  98.321447  0.948017       13.508500    235.282171   \n",
      "98           102.458229  97.544914  0.945065       14.151354    235.281609   \n",
      "99           102.555358  97.922275  0.948833       13.525672    234.731365   \n",
      "\n",
      "             v_gain_std offline_method  \n",
      "num_episode                             \n",
      "0              1.767571            WIS  \n",
      "1              2.093083            WIS  \n",
      "2              2.151479            WIS  \n",
      "3              2.160156            WIS  \n",
      "4              2.181014            WIS  \n",
      "...                 ...            ...  \n",
      "95             2.191113            WIS  \n",
      "96             2.199705            WIS  \n",
      "97             2.210686            WIS  \n",
      "98             2.211804            WIS  \n",
      "99             2.208285            WIS  \n",
      "\n",
      "[100 rows x 7 columns]\n"
     ]
    },
    {
     "data": {
      "text/html": [
       "<div>\n",
       "<style scoped>\n",
       "    .dataframe tbody tr th:only-of-type {\n",
       "        vertical-align: middle;\n",
       "    }\n",
       "\n",
       "    .dataframe tbody tr th {\n",
       "        vertical-align: top;\n",
       "    }\n",
       "\n",
       "    .dataframe thead th {\n",
       "        text-align: right;\n",
       "    }\n",
       "</style>\n",
       "<table border=\"1\" class=\"dataframe\">\n",
       "  <thead>\n",
       "    <tr style=\"text-align: right;\">\n",
       "      <th></th>\n",
       "      <th>v_behavior</th>\n",
       "      <th>v_target</th>\n",
       "      <th>v_gain</th>\n",
       "      <th>v_behavior_std</th>\n",
       "      <th>v_target_std</th>\n",
       "      <th>v_gain_std</th>\n",
       "      <th>offline_method</th>\n",
       "      <th>loss</th>\n",
       "      <th>model</th>\n",
       "    </tr>\n",
       "    <tr>\n",
       "      <th>num_episode</th>\n",
       "      <th></th>\n",
       "      <th></th>\n",
       "      <th></th>\n",
       "      <th></th>\n",
       "      <th></th>\n",
       "      <th></th>\n",
       "      <th></th>\n",
       "      <th></th>\n",
       "      <th></th>\n",
       "    </tr>\n",
       "  </thead>\n",
       "  <tbody>\n",
       "    <tr>\n",
       "      <th>0</th>\n",
       "      <td>102.741476</td>\n",
       "      <td>35.863910</td>\n",
       "      <td>0.348667</td>\n",
       "      <td>12.591973</td>\n",
       "      <td>68.821549</td>\n",
       "      <td>0.659929</td>\n",
       "      <td>IS</td>\n",
       "      <td>NaN</td>\n",
       "      <td>MARWILTrainer</td>\n",
       "    </tr>\n",
       "    <tr>\n",
       "      <th>1</th>\n",
       "      <td>102.055203</td>\n",
       "      <td>36.474064</td>\n",
       "      <td>0.358229</td>\n",
       "      <td>14.364122</td>\n",
       "      <td>69.433907</td>\n",
       "      <td>0.664305</td>\n",
       "      <td>IS</td>\n",
       "      <td>NaN</td>\n",
       "      <td>MARWILTrainer</td>\n",
       "    </tr>\n",
       "    <tr>\n",
       "      <th>2</th>\n",
       "      <td>102.736824</td>\n",
       "      <td>36.901116</td>\n",
       "      <td>0.357146</td>\n",
       "      <td>12.692780</td>\n",
       "      <td>69.628541</td>\n",
       "      <td>0.664559</td>\n",
       "      <td>IS</td>\n",
       "      <td>NaN</td>\n",
       "      <td>MARWILTrainer</td>\n",
       "    </tr>\n",
       "    <tr>\n",
       "      <th>3</th>\n",
       "      <td>102.338433</td>\n",
       "      <td>36.488291</td>\n",
       "      <td>0.354529</td>\n",
       "      <td>14.210411</td>\n",
       "      <td>69.216189</td>\n",
       "      <td>0.659674</td>\n",
       "      <td>IS</td>\n",
       "      <td>NaN</td>\n",
       "      <td>MARWILTrainer</td>\n",
       "    </tr>\n",
       "    <tr>\n",
       "      <th>4</th>\n",
       "      <td>102.433120</td>\n",
       "      <td>36.776876</td>\n",
       "      <td>0.368330</td>\n",
       "      <td>13.647651</td>\n",
       "      <td>69.325571</td>\n",
       "      <td>0.700094</td>\n",
       "      <td>IS</td>\n",
       "      <td>NaN</td>\n",
       "      <td>MARWILTrainer</td>\n",
       "    </tr>\n",
       "  </tbody>\n",
       "</table>\n",
       "</div>"
      ],
      "text/plain": [
       "             v_behavior   v_target    v_gain  v_behavior_std  v_target_std  \\\n",
       "num_episode                                                                  \n",
       "0            102.741476  35.863910  0.348667       12.591973     68.821549   \n",
       "1            102.055203  36.474064  0.358229       14.364122     69.433907   \n",
       "2            102.736824  36.901116  0.357146       12.692780     69.628541   \n",
       "3            102.338433  36.488291  0.354529       14.210411     69.216189   \n",
       "4            102.433120  36.776876  0.368330       13.647651     69.325571   \n",
       "\n",
       "             v_gain_std offline_method  loss          model  \n",
       "num_episode                                                  \n",
       "0              0.659929             IS   NaN  MARWILTrainer  \n",
       "1              0.664305             IS   NaN  MARWILTrainer  \n",
       "2              0.664559             IS   NaN  MARWILTrainer  \n",
       "3              0.659674             IS   NaN  MARWILTrainer  \n",
       "4              0.700094             IS   NaN  MARWILTrainer  "
      ]
     },
     "execution_count": 29,
     "metadata": {},
     "output_type": "execute_result"
    }
   ],
   "source": [
    "offline_metrics = get_offline_metrics(results,model=MODEL_NAME)\n",
    "offline_metrics.head()"
   ]
  },
  {
   "cell_type": "code",
   "execution_count": 30,
   "metadata": {},
   "outputs": [
    {
     "name": "stdout",
     "output_type": "stream",
     "text": [
      "Trainer en iteración 100 guardado en '../models/offline_rl/interest_evolution/MARWILTrainer\\checkpoint_000100'.\n"
     ]
    }
   ],
   "source": [
    "checkpoint_dir = f\"../models/offline_rl/interest_evolution/{MODEL_NAME}\"\n",
    "# We use the `Trainer.save()` method to create a checkpoint.\n",
    "checkpoint_file = marwil_trainer.save(checkpoint_dir)\n",
    "print(f\"Trainer en iteración {marwil_trainer.iteration} guardado en '{checkpoint_file}'.\")\n",
    "offline_metrics.to_csv(os.path.join(checkpoint_dir,\"offiline_metrics.csv\"))"
   ]
  },
  {
   "cell_type": "markdown",
   "metadata": {},
   "source": [
    "A continuación se muestra el código de modoelo CQL, que no se puede utilizar debido a que no está adaptado para entornos discretos multidimensionales."
   ]
  },
  {
   "cell_type": "code",
   "execution_count": 31,
   "metadata": {},
   "outputs": [],
   "source": [
    "# No se utiliza porque no permite acciones multi-discretas\n",
    " #cql_config = CQL_DEFAULT_CONFIG.copy()\n",
    "\n",
    "\n",
    "\n",
    "#offline_rl_config = {\n",
    "#    # Specify your offline RL algo's historic (JSON) inputs:\n",
    "#    \"input\": [json_output_file],\n",
    "#    \"actions_in_input_normalized\": True,\n",
    "#    # Note: For non-offline RL algos, this is set to \"sampler\" by default.\n",
    "#    #\"input\": \"sampler\",\n",
    "#    \"lr\": 0.000000001,\n",
    "#    \"grad_clip\": 10.0,\n",
    "#    \"framework\": \"torch\",\n",
    "#\n",
    "#    # Since we don't have an environment and the obs/action-spaces are not defined in the JSON file,\n",
    "#    # we need to provide these here manually.\n",
    "#    \"env\": None,  # default\n",
    "#    \"observation_space\": offline_rl_env.observation_space,\n",
    "#    \"action_space\": offline_rl_env.action_space,\n",
    "#\n",
    "#    # Perform \"off-policy estimation\" (OPE) on train batches and report results.\n",
    "#    \"input_evaluation\": [\"is\", \"wis\"],\n",
    "#}\n",
    "\n",
    "\n",
    "\n",
    "#cql_config.update(offline_rl_config)\n",
    "\n",
    "#cql_trainer = CQLTrainer(cql_config)"
   ]
  },
  {
   "cell_type": "markdown",
   "metadata": {},
   "source": []
  },
  {
   "cell_type": "markdown",
   "metadata": {},
   "source": []
  },
  {
   "cell_type": "code",
   "execution_count": null,
   "metadata": {},
   "outputs": [],
   "source": []
  }
 ],
 "metadata": {
  "kernelspec": {
   "display_name": "Python 3.9.0 ('tfmenv')",
   "language": "python",
   "name": "python3"
  },
  "language_info": {
   "codemirror_mode": {
    "name": "ipython",
    "version": 3
   },
   "file_extension": ".py",
   "mimetype": "text/x-python",
   "name": "python",
   "nbconvert_exporter": "python",
   "pygments_lexer": "ipython3",
   "version": "3.9.0"
  },
  "orig_nbformat": 4,
  "vscode": {
   "interpreter": {
    "hash": "139d4b1674f9ad0c49a1e111d60a00fbc71055d14589fdcbb2b26be36c2445c0"
   }
  }
 },
 "nbformat": 4,
 "nbformat_minor": 2
}
